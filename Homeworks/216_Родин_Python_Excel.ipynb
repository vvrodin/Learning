{
 "cells": [
  {
   "cell_type": "markdown",
   "id": "a132a1bf",
   "metadata": {},
   "source": [
    "# Домашнее задание по курсу «Теория вероятностей и математическая статистика»"
   ]
  },
  {
   "cell_type": "markdown",
   "id": "e34c05bf",
   "metadata": {},
   "source": [
    "### Выполнил: Родин Владимир Владимирович, БЭК216"
   ]
  },
  {
   "cell_type": "code",
   "execution_count": 134,
   "id": "9bb7f34f",
   "metadata": {},
   "outputs": [],
   "source": [
    "import numpy as np\n",
    "import scipy.stats as sts\n",
    "import matplotlib.pyplot as plt\n",
    "import pandas as pd\n",
    "\n",
    "a1 = 18 #Р\n",
    "a2 = 16 #О\n",
    "a3 = 5 #Д\n",
    "\n",
    "b1 = 3 #В\n",
    "b2 = 13 #Л\n",
    "b3 = 1 #А\n",
    "\n",
    "c1 = 3 #В\n",
    "c2 = 13 #Л\n",
    "c3 = 1 #А"
   ]
  },
  {
   "cell_type": "markdown",
   "id": "1387eab1",
   "metadata": {},
   "source": [
    "# Задание 1. Базовые описательные статистики"
   ]
  },
  {
   "cell_type": "markdown",
   "id": "675808c2",
   "metadata": {},
   "source": [
    "## 1.1. Основные характеристики выборки (20 баллов)"
   ]
  },
  {
   "cell_type": "markdown",
   "id": "6e2e739c",
   "metadata": {},
   "source": [
    "### 1. Создайте выборку объемом n = 100 из равномерного на (-a1, a2)  распределения."
   ]
  },
  {
   "cell_type": "code",
   "execution_count": 135,
   "id": "f74cdf2f",
   "metadata": {
    "scrolled": true
   },
   "outputs": [
    {
     "data": {
      "text/plain": [
       "array([ -5.97292662,  -7.99255094, -12.41922214,  -1.38491582,\n",
       "       -11.33251335,  -4.53647433,  -0.38397673,  -6.1171408 ,\n",
       "       -17.49080133,  14.50747352,  11.4389467 ,  -1.11956648,\n",
       "         0.56543008,   6.2494826 , -14.51001822,  -6.00771259,\n",
       "         6.19646605,  -9.54432751,   5.20618739,  15.5897121 ,\n",
       "        11.92342329, -13.3614223 ,  11.642986  ,  -0.97165643,\n",
       "        -1.1489736 ,   6.40217005,   3.2768187 ,  -2.34494646,\n",
       "         2.46766832,   5.84722138,  -0.96769959,  -7.86664799,\n",
       "         0.59375011, -11.26126732, -11.04703283,  -5.85420149,\n",
       "         7.11880128,   7.32787569,  15.01866251,  -5.09258714,\n",
       "       -15.49917385,  -2.88023099,  11.67826213, -12.58924997,\n",
       "         2.83393053, -13.09963823, -17.71554464,   9.76096156,\n",
       "         8.24555845,   4.90885671,   5.75268602, -13.6277649 ,\n",
       "       -17.87304929, -15.21823716,  -0.9230754 , -17.91563871,\n",
       "         6.61853131,  -1.27381501,   0.73515867,   9.7741989 ,\n",
       "        10.91007494,  10.96798165,  -2.41514094,   2.20628063,\n",
       "       -13.30488103,  12.49581534, -13.77264651,  -9.89336498,\n",
       "        -1.61615408,  -7.04028942,   8.99926462,  12.18806452,\n",
       "         1.54495268,  13.23260675,  -3.80458007, -13.9176202 ,\n",
       "       -11.0624912 ,   8.08638197, -13.98703906, -13.99886075,\n",
       "        10.44394094, -10.31671721,  -2.95659443,  11.39187446,\n",
       "       -14.6046809 , -10.211726  ,   1.41889848,   8.35704203,\n",
       "        11.78087397,   0.48624896, -10.47639972,   2.50852913,\n",
       "        -5.15398271,  13.91058525,  12.21055857,  -4.82761916,\n",
       "        -6.76493022,  -5.4628684 , -11.88039039,  -0.09747474])"
      ]
     },
     "execution_count": 135,
     "metadata": {},
     "output_type": "execute_result"
    }
   ],
   "source": [
    "np.random.seed(5401860)\n",
    "uniform_rv = sts.uniform(-a1, abs(a2 - (-a1)))\n",
    "uniform = uniform_rv.rvs(100)\n",
    "uniform"
   ]
  },
  {
   "cell_type": "markdown",
   "id": "a3f7530d",
   "metadata": {},
   "source": [
    "### 2. Создайте выборку объемом n = 100 из нормального распределения с параметрами μ = b1, σ^2 = b2. "
   ]
  },
  {
   "cell_type": "code",
   "execution_count": 136,
   "id": "c98ae0cb",
   "metadata": {},
   "outputs": [
    {
     "data": {
      "text/plain": [
       "array([-1.85914885, -0.45570463,  2.84686673, -1.54297467,  1.4466046 ,\n",
       "       -1.53855371, -4.82122065,  3.94155195,  2.96126375,  7.02987664,\n",
       "        9.41966746,  4.38624245,  1.98067334,  0.25001756, -0.57390823,\n",
       "        6.0101268 ,  3.00879692,  6.92397131,  9.57319234,  2.86771013,\n",
       "        0.5025376 , 10.94172423,  8.73676283,  5.90529393, -3.86573522,\n",
       "        3.03229611, -2.00279928,  3.77702019,  0.9644414 , -1.21311809,\n",
       "        6.18119912,  6.10133393,  2.7021498 ,  4.1658058 ,  2.63989845,\n",
       "        0.22312043, -0.71591637,  4.17743728,  5.56951462,  7.02050664,\n",
       "        0.36608636,  4.40848297,  2.49191962,  3.00231052,  2.76805219,\n",
       "        9.45363333,  7.73989681,  3.76334892,  3.42224035,  3.42019736,\n",
       "       11.29010038, -0.65896245,  1.77582197,  1.2418361 , -4.27922324,\n",
       "        2.25746553,  3.94091563,  3.71340752,  5.85657838,  3.51078885,\n",
       "       -0.534655  ,  2.23258133,  5.29874573,  0.45431034,  1.28739753,\n",
       "        5.10362954,  6.92637085,  2.3800522 ,  2.25332547,  1.89724589,\n",
       "        8.24660627,  4.35630554,  3.43960799,  6.78037225,  4.80577963,\n",
       "       -1.87734001,  5.12713852,  2.40739438,  2.07623473,  6.18826264,\n",
       "       -1.06168914, -2.24670512,  3.396682  , -1.78219851,  5.22293223,\n",
       "        5.59489156,  1.41522525, -4.34635183,  2.30617603,  1.53493357,\n",
       "       -0.7541629 ,  2.99964023,  7.31904526, -0.93362622,  5.38390727,\n",
       "        0.32289386, -2.49669149,  2.96669136,  4.87559464,  0.04305258])"
      ]
     },
     "execution_count": 136,
     "metadata": {},
     "output_type": "execute_result"
    }
   ],
   "source": [
    "np.random.seed(5401860)\n",
    "norm_rv = sts.norm(loc=b1, scale=np.sqrt(b2))\n",
    "norm = norm_rv.rvs(100)\n",
    "norm"
   ]
  },
  {
   "cell_type": "markdown",
   "id": "6e83eb69",
   "metadata": {},
   "source": [
    "### Создайте выборку объемом n = 100 из показательного распределения с параметром λ = 1 / c1."
   ]
  },
  {
   "cell_type": "code",
   "execution_count": 137,
   "id": "06f6a5da",
   "metadata": {},
   "outputs": [
    {
     "data": {
      "text/plain": [
       "array([ 4.30964831,  4.04585136,  3.53788432,  5.0122728 ,  3.6548507 ,\n",
       "        4.51247395,  5.19017009,  4.29002284,  3.04526913, 12.37767066,\n",
       "        9.02642082,  5.05841543,  5.36925219,  6.74712052,  3.32491629,\n",
       "        4.30490268,  6.73085279,  3.85783574,  6.44216238, 16.25177006,\n",
       "        9.36330879,  3.44003664,  9.1637207 ,  5.08444752,  5.0532666 ,\n",
       "        6.7944705 ,  5.94880469,  4.85101916,  5.76383629,  6.6258393 ,\n",
       "        5.08514704,  4.06163557,  5.37476178,  3.66268083,  3.68634965,\n",
       "        4.325902  ,  7.02727196,  7.09874024, 13.63559812,  4.4323166 ,\n",
       "        3.22919762,  4.76473539,  9.18810875,  3.51998926,  5.8461525 ,\n",
       "        3.46690435,  3.02520459,  8.08660335,  7.43428423,  6.36064091,\n",
       "        6.59803471,  3.4129458 ,  3.0112225 ,  3.25607423,  5.09304728,\n",
       "        3.00745289,  6.86287259,  5.03150626,  5.40242488,  8.0929752 ,\n",
       "        8.69729225,  8.73161807,  4.83956196,  5.70644146,  3.4458193 ,\n",
       "        9.81720796,  3.39831137,  3.8171213 ,  4.97263259,  4.16734838,\n",
       "        7.74103598,  9.56467039,  5.56595063, 10.52536414,  4.62134189,\n",
       "        3.38373874,  3.68463553,  7.37332634,  3.3767858 ,  3.37560336,\n",
       "        8.43441441,  3.76846846,  4.75262599,  8.99561807,  3.31562267,\n",
       "        3.78046097,  5.53990275,  7.47772748,  9.26019756,  5.35390119,\n",
       "        3.7503203 ,  5.77290848,  4.42359699, 11.36842956,  9.58242569,\n",
       "        4.47024172,  4.20341796,  4.3801084 ,  3.59531081,  5.24309434])"
      ]
     },
     "execution_count": 137,
     "metadata": {},
     "output_type": "execute_result"
    }
   ],
   "source": [
    "np.random.seed(5401860)\n",
    "exp_rv = sts.expon(loc=c1, scale=c1)\n",
    "exp = exp_rv.rvs(100)\n",
    "exp"
   ]
  },
  {
   "cell_type": "markdown",
   "id": "1609456b",
   "metadata": {},
   "source": [
    "### 4. Для построенных выборок найдите значения:\n",
    "· Первого и последнего члена вариационного ряда  \n",
    "· Выборочного среднего  \n",
    "· Выборочной стандартной ошибки  \n",
    "· Выборочной медианы  "
   ]
  },
  {
   "cell_type": "markdown",
   "id": "003d49c6",
   "metadata": {},
   "source": [
    "#### Равномерное распределение"
   ]
  },
  {
   "cell_type": "code",
   "execution_count": 138,
   "id": "60d5a8e5",
   "metadata": {},
   "outputs": [
    {
     "name": "stdout",
     "output_type": "stream",
     "text": [
      "Первый член вариационного ряда: -17.915638711903238, последний член: 15.589712096316028\n",
      "Выборочное среднее: -1.3008925734582635\n",
      "Выборочная стандартная ошибка: 9.51212515938017\n",
      "Выборочная медиана: -1.1342700417349043\n"
     ]
    }
   ],
   "source": [
    "print(f'Первый член вариационного ряда: {np.sort(uniform)[0]}, последний член: {np.sort(uniform)[-1]}')\n",
    "print(f'Выборочное среднее: {np.mean(uniform)}')\n",
    "print(f'Выборочная стандартная ошибка: {np.std(uniform)}')\n",
    "print(f'Выборочная медиана: {np.median(uniform)}')"
   ]
  },
  {
   "cell_type": "markdown",
   "id": "2b6f4b1e",
   "metadata": {},
   "source": [
    "#### Нормальное распределение"
   ]
  },
  {
   "cell_type": "code",
   "execution_count": 139,
   "id": "5b913c7d",
   "metadata": {},
   "outputs": [
    {
     "name": "stdout",
     "output_type": "stream",
     "text": [
      "Первый член вариационного ряда: -4.821220647961835, последний член: 11.290100383473625\n",
      "Выборочное среднее: 2.847930281790477\n",
      "Выборочная стандартная ошибка: 3.408838775651248\n",
      "Выборочная медиана: 2.9144869382158602\n"
     ]
    }
   ],
   "source": [
    "print(f'Первый член вариационного ряда: {np.sort(norm)[0]}, последний член: {np.sort(norm)[-1]}')\n",
    "print(f'Выборочное среднее: {np.mean(norm)}')\n",
    "print(f'Выборочная стандартная ошибка: {np.std(norm)}')\n",
    "print(f'Выборочная медиана: {np.median(norm)}')"
   ]
  },
  {
   "cell_type": "markdown",
   "id": "ebf66cba",
   "metadata": {},
   "source": [
    "#### Показательное распределение"
   ]
  },
  {
   "cell_type": "code",
   "execution_count": 140,
   "id": "e4b83524",
   "metadata": {},
   "outputs": [
    {
     "name": "stdout",
     "output_type": "stream",
     "text": [
      "Первый член вариационного ряда: 3.0074528930082725, последний член: 16.251770058667947\n",
      "Выборочное среднее: 5.7653389555596855\n",
      "Выборочная стандартная ошибка: 2.5124419051204057\n",
      "Выборочная медиана: 5.055841016463029\n"
     ]
    }
   ],
   "source": [
    "print(f'Первый член вариационного ряда: {np.sort(exp)[0]}, последний член: {np.sort(exp)[-1]}')\n",
    "print(f'Выборочное среднее: {np.mean(exp)}')\n",
    "print(f'Выборочная стандартная ошибка: {np.std(exp)}')\n",
    "print(f'Выборочная медиана: {np.median(exp)}')"
   ]
  },
  {
   "cell_type": "markdown",
   "id": "0878fa84",
   "metadata": {},
   "source": [
    "### 5. Для построенных выборок постройте диаграмму рассеяния."
   ]
  },
  {
   "cell_type": "markdown",
   "id": "578a1db5",
   "metadata": {},
   "source": [
    "#### Равномерное распределение"
   ]
  },
  {
   "cell_type": "code",
   "execution_count": 141,
   "id": "fec31e3d",
   "metadata": {},
   "outputs": [
    {
     "data": {
      "image/png": "[encoded data removed]",
      "text/plain": [
       "<Figure size 640x480 with 1 Axes>"
      ]
     },
     "metadata": {},
     "output_type": "display_data"
    }
   ],
   "source": [
    "plt.scatter(range(1, len(uniform) + 1), uniform)\n",
    "plt.title('Диаграмма рассеяния построенного равномерного распределения')\n",
    "plt.xlabel('Номер значения')\n",
    "plt.ylabel('Значение')\n",
    "plt.show()"
   ]
  },
  {
   "cell_type": "markdown",
   "id": "15dcdcc5",
   "metadata": {},
   "source": [
    "#### Нормальное распределение"
   ]
  },
  {
   "cell_type": "code",
   "execution_count": 142,
   "id": "c989b2e0",
   "metadata": {},
   "outputs": [
    {
     "data": {
      "image/png": "[encoded data removed]",
      "text/plain": [
       "<Figure size 640x480 with 1 Axes>"
      ]
     },
     "metadata": {},
     "output_type": "display_data"
    }
   ],
   "source": [
    "plt.scatter(range(1, len(norm) + 1), norm)\n",
    "plt.title('Диаграмма рассеяния построенного нормального распределения')\n",
    "plt.xlabel('Номер значения')\n",
    "plt.ylabel('Значение')\n",
    "plt.show()"
   ]
  },
  {
   "cell_type": "markdown",
   "id": "c96e1d50",
   "metadata": {},
   "source": [
    "#### Показательное распределение"
   ]
  },
  {
   "cell_type": "code",
   "execution_count": 143,
   "id": "8740cfa2",
   "metadata": {},
   "outputs": [
    {
     "data": {
      "image/png": "[encoded data removed]",
      "text/plain": [
       "<Figure size 640x480 with 1 Axes>"
      ]
     },
     "metadata": {},
     "output_type": "display_data"
    }
   ],
   "source": [
    "plt.scatter(range(1, len(exp) + 1), exp)\n",
    "plt.title('Диаграмма рассеяния построенного показательного распределения')\n",
    "plt.xlabel('Номер значения')\n",
    "plt.ylabel('Значение')\n",
    "plt.show()"
   ]
  },
  {
   "cell_type": "markdown",
   "id": "14e1793b",
   "metadata": {},
   "source": [
    "### 6. Для построенных выборок разделите ось абсцисс на 10 равных отрезков, рассчитайте количество значений в каждом из них и постройте гистограмму."
   ]
  },
  {
   "cell_type": "markdown",
   "id": "4725971c",
   "metadata": {},
   "source": [
    "#### Равномерное распределение"
   ]
  },
  {
   "cell_type": "code",
   "execution_count": 144,
   "id": "926901d0",
   "metadata": {},
   "outputs": [
    {
     "data": {
      "image/png": "[encoded data removed]",
      "text/plain": [
       "<Figure size 640x480 with 1 Axes>"
      ]
     },
     "metadata": {},
     "output_type": "display_data"
    }
   ],
   "source": [
    "plt.hist(uniform, bins=10)\n",
    "plt.title('Гистограмма построенного равномерного распределения')\n",
    "plt.xlabel('Значения')\n",
    "plt.ylabel('Частота')\n",
    "plt.show()"
   ]
  },
  {
   "cell_type": "markdown",
   "id": "074323a0",
   "metadata": {},
   "source": [
    "#### Нормальное распределение"
   ]
  },
  {
   "cell_type": "code",
   "execution_count": 145,
   "id": "428c141b",
   "metadata": {},
   "outputs": [
    {
     "data": {
      "image/png": "[encoded data removed]",
      "text/plain": [
       "<Figure size 640x480 with 1 Axes>"
      ]
     },
     "metadata": {},
     "output_type": "display_data"
    }
   ],
   "source": [
    "plt.hist(norm, bins=10)\n",
    "plt.title('Гистограмма построенного нормального распределения')\n",
    "plt.xlabel('Значения')\n",
    "plt.ylabel('Частота')\n",
    "plt.show()"
   ]
  },
  {
   "cell_type": "markdown",
   "id": "55da40d7",
   "metadata": {},
   "source": [
    "#### Показательное распределение"
   ]
  },
  {
   "cell_type": "code",
   "execution_count": 146,
   "id": "12f43dbe",
   "metadata": {},
   "outputs": [
    {
     "data": {
      "image/png": "[encoded data removed]",
      "text/plain": [
       "<Figure size 640x480 with 1 Axes>"
      ]
     },
     "metadata": {},
     "output_type": "display_data"
    }
   ],
   "source": [
    "plt.hist(exp, bins=10)\n",
    "plt.title('Гистограмма построенного показательного распределения')\n",
    "plt.xlabel('Значения')\n",
    "plt.ylabel('Частота')\n",
    "plt.show()"
   ]
  },
  {
   "cell_type": "markdown",
   "id": "4e65719d",
   "metadata": {},
   "source": [
    "### 7. Для построенных выборок постройте выборочную функцию распределения и теоретическую функцию распределения. Сравните теоретическое и выборочное распределения."
   ]
  },
  {
   "cell_type": "markdown",
   "id": "a492fb58",
   "metadata": {},
   "source": [
    "#### Равномерное распределение"
   ]
  },
  {
   "cell_type": "code",
   "execution_count": 147,
   "id": "974ab632",
   "metadata": {
    "scrolled": false
   },
   "outputs": [
    {
     "data": {
      "image/png": "[encoded data removed]",
      "text/plain": [
       "<Figure size 640x480 with 1 Axes>"
      ]
     },
     "metadata": {},
     "output_type": "display_data"
    },
    {
     "data": {
      "image/png": "[encoded data removed]",
      "text/plain": [
       "<Figure size 640x480 with 1 Axes>"
      ]
     },
     "metadata": {},
     "output_type": "display_data"
    }
   ],
   "source": [
    "plt.subplot(2, 1, 1)\n",
    "\n",
    "x = np.linspace(-a1, a2, 102)\n",
    "cdf = uniform_rv.cdf(x)\n",
    "plt.plot(x, cdf)\n",
    "plt.title('Теоретическая функция распределения')\n",
    "plt.ylabel('$f(x)$')\n",
    "plt.xlabel('$x$')\n",
    "plt.show()\n",
    "\n",
    "plt.subplot(2, 1, 2)\n",
    "\n",
    "x_data = []\n",
    "uniform_sorted = np.sort(uniform)\n",
    "for x in uniform_sorted:\n",
    "    x_data.append(np.sum(uniform_sorted <= x) / 100)  \n",
    "\n",
    "plt.plot(uniform_sorted, x_data, c='red')\n",
    "plt.title('Выборочная функция распределения')\n",
    "plt.ylabel('$f(x)$')\n",
    "plt.xlabel('$x$')\n",
    "plt.show()"
   ]
  },
  {
   "cell_type": "markdown",
   "id": "f94d8ad5",
   "metadata": {},
   "source": [
    "#### Нормальное распределение"
   ]
  },
  {
   "cell_type": "code",
   "execution_count": 148,
   "id": "cb6d374c",
   "metadata": {},
   "outputs": [
    {
     "data": {
      "image/png": "[encoded data removed]",
      "text/plain": [
       "<Figure size 640x480 with 1 Axes>"
      ]
     },
     "metadata": {},
     "output_type": "display_data"
    },
    {
     "data": {
      "image/png": "[encoded data removed]",
      "text/plain": [
       "<Figure size 640x480 with 1 Axes>"
      ]
     },
     "metadata": {},
     "output_type": "display_data"
    }
   ],
   "source": [
    "plt.subplot(2, 1, 1)\n",
    "\n",
    "x = np.linspace(-40, 40, 100)\n",
    "cdf = norm_rv.cdf(x)\n",
    "plt.plot(x, cdf)\n",
    "plt.title('Теоретическая функция распределения')\n",
    "plt.ylabel('$f(x)$')\n",
    "plt.xlabel('$x$')\n",
    "plt.show()\n",
    "\n",
    "plt.subplot(2, 1, 2)\n",
    "\n",
    "x_data = []\n",
    "norm_sorted = np.sort(norm)\n",
    "for x in norm_sorted:\n",
    "    x_data.append(np.sum(norm_sorted <= x) / 100) \n",
    "\n",
    "plt.plot(norm_sorted, x_data, c='red')\n",
    "plt.title('Выборочная функция распределения')\n",
    "plt.ylabel('$f(x)$')\n",
    "plt.xlabel('$x$')\n",
    "plt.show()"
   ]
  },
  {
   "cell_type": "markdown",
   "id": "2dc5fddd",
   "metadata": {},
   "source": [
    "#### Показательное распределение"
   ]
  },
  {
   "cell_type": "code",
   "execution_count": 149,
   "id": "59970737",
   "metadata": {},
   "outputs": [
    {
     "data": {
      "image/png": "[encoded data removed]",
      "text/plain": [
       "<Figure size 640x480 with 1 Axes>"
      ]
     },
     "metadata": {},
     "output_type": "display_data"
    },
    {
     "data": {
      "image/png": "[encoded data removed]",
      "text/plain": [
       "<Figure size 640x480 with 1 Axes>"
      ]
     },
     "metadata": {},
     "output_type": "display_data"
    }
   ],
   "source": [
    "plt.subplot(2, 1, 1)\n",
    "\n",
    "x = np.linspace(2, 20, 102)\n",
    "cdf = exp_rv.cdf(x)\n",
    "plt.plot(x, cdf)\n",
    "plt.title('Теоретическая функция распределения')\n",
    "plt.ylabel('$f(x)$')\n",
    "plt.xlabel('$x$')\n",
    "plt.show()\n",
    "\n",
    "plt.subplot(2, 1, 2)\n",
    "\n",
    "x_data = []\n",
    "exp_sorted = np.sort(exp)\n",
    "for x in exp_sorted:\n",
    "    x_data.append(np.sum(exp_sorted <= x) / 100)\n",
    "\n",
    "plt.plot(exp_sorted, x_data, c='red')\n",
    "plt.title('Выборочная функция распределения')\n",
    "plt.ylabel('$f(x)$')\n",
    "plt.xlabel('$x$')\n",
    "plt.show()"
   ]
  },
  {
   "cell_type": "markdown",
   "id": "8a320b1e",
   "metadata": {},
   "source": [
    "Теоретическая функция распределения напоминает \"предельный\" график для выборочной функции распределения. "
   ]
  },
  {
   "cell_type": "markdown",
   "id": "b9847014",
   "metadata": {},
   "source": [
    "## 1.2. Центральная предельная теорема (10 баллов)"
   ]
  },
  {
   "cell_type": "markdown",
   "id": "f6f932a3",
   "metadata": {},
   "source": [
    "### 1. Создайте 100 выборок объемом n = 20 из равномерного на (-a2, a3) распределения и вычислите соответствующие выборочные средние по каждой выборке."
   ]
  },
  {
   "cell_type": "code",
   "execution_count": 150,
   "id": "5f61fe9d",
   "metadata": {},
   "outputs": [
    {
     "data": {
      "text/plain": [
       "array([-6.08856973, -4.52093855, -6.99184228, -5.62913904, -5.19873746,\n",
       "       -5.52317404, -9.27749111, -7.02947527, -4.34785631, -4.60258648,\n",
       "       -6.70028542, -5.27616794, -8.25233451, -5.0895279 , -6.0147765 ,\n",
       "       -5.00741667, -7.95930438, -4.82582954, -5.85651824, -4.23511691,\n",
       "       -6.19077564, -5.67966855, -6.49450438, -7.92644563, -4.95433699,\n",
       "       -4.84354369, -3.4318924 , -5.12162411, -6.96306467, -7.32300249,\n",
       "       -5.35107989, -6.61940322, -7.25172966, -4.96250401, -7.67926639,\n",
       "       -5.29605458, -5.62383618, -5.02212039, -8.26698019, -5.42902263,\n",
       "       -6.57747687, -3.64843221, -4.49586173, -7.18106826, -5.27794865,\n",
       "       -3.71757584, -6.37430108, -6.05997244, -4.0847387 , -6.68984295,\n",
       "       -6.35733006, -4.87309906, -4.95537278, -6.28971923, -5.75489912,\n",
       "       -5.88038643, -8.50423988, -3.90715703, -4.5990437 , -6.09420034,\n",
       "       -8.71426453, -6.62412189, -5.40828505, -6.7669113 , -4.28991242,\n",
       "       -7.94918891, -5.99681468, -4.89191296, -5.57384985, -4.64912584,\n",
       "       -5.1367368 , -4.8395261 , -2.61185542, -5.45978087, -4.91936106,\n",
       "       -4.0790694 , -9.32582128, -7.17710805, -6.28686438, -4.97426552,\n",
       "       -5.94301381, -5.1163395 , -4.78587433, -6.52023408, -3.92788425,\n",
       "       -5.53827528, -5.04137144, -6.84321818, -5.54557047, -6.50351399,\n",
       "       -4.45596297, -4.967402  , -4.22560506, -6.74817899, -5.97232335,\n",
       "       -6.46325466, -8.00591521, -2.57371399, -4.79193023, -4.17214446])"
      ]
     },
     "execution_count": 150,
     "metadata": {},
     "output_type": "execute_result"
    }
   ],
   "source": [
    "np.random.seed(5401860)\n",
    "uniform_rv = sts.uniform(-a2, a3 + a2)\n",
    "uniform = uniform_rv.rvs((100, 20))\n",
    "uniform_means = np.mean(uniform, axis=1)\n",
    "uniform_means"
   ]
  },
  {
   "cell_type": "markdown",
   "id": "a36caa6c",
   "metadata": {},
   "source": [
    "### 2. Постройте гистограмму стандартизированного выборочного среднего из предыдущего пункта."
   ]
  },
  {
   "cell_type": "code",
   "execution_count": 151,
   "id": "80397891",
   "metadata": {},
   "outputs": [
    {
     "data": {
      "image/png": "[encoded data removed]",
      "text/plain": [
       "<Figure size 640x480 with 1 Axes>"
      ]
     },
     "metadata": {},
     "output_type": "display_data"
    }
   ],
   "source": [
    "plt.hist((uniform_means - uniform_rv.mean()) / (uniform_rv.std() / np.sqrt(20)))\n",
    "plt.title('Гистограмма стандартизированного выборочного среднего')\n",
    "plt.show()"
   ]
  },
  {
   "cell_type": "markdown",
   "id": "c0f4b9aa",
   "metadata": {},
   "source": [
    "### 3. Сделайте выводы о типе полученного распределения."
   ]
  },
  {
   "cell_type": "markdown",
   "id": "3e001e57",
   "metadata": {},
   "source": [
    "Распределение напоминает нормальное."
   ]
  },
  {
   "cell_type": "markdown",
   "id": "87f94564",
   "metadata": {},
   "source": [
    "## 1.3. Корреляционные связи статистических рядов (10 баллов)"
   ]
  },
  {
   "cell_type": "markdown",
   "id": "0e6d988e",
   "metadata": {},
   "source": [
    "### 1. Выберите три произвольных ряда из базы данных цен мировых товарных рынков."
   ]
  },
  {
   "cell_type": "code",
   "execution_count": 152,
   "id": "257d6c36",
   "metadata": {},
   "outputs": [
    {
     "data": {
      "text/html": [
       "<div>\n",
       "<style scoped>\n",
       "    .dataframe tbody tr th:only-of-type {\n",
       "        vertical-align: middle;\n",
       "    }\n",
       "\n",
       "    .dataframe tbody tr th {\n",
       "        vertical-align: top;\n",
       "    }\n",
       "\n",
       "    .dataframe thead th {\n",
       "        text-align: right;\n",
       "    }\n",
       "</style>\n",
       "<table border=\"1\" class=\"dataframe\">\n",
       "  <thead>\n",
       "    <tr style=\"text-align: right;\">\n",
       "      <th></th>\n",
       "      <th>Crude oil, average</th>\n",
       "      <th>Crude oil, Brent</th>\n",
       "      <th>Crude oil, Dubai</th>\n",
       "      <th>Crude oil, WTI</th>\n",
       "      <th>Coal, Australian</th>\n",
       "      <th>Coal, South African</th>\n",
       "      <th>Natural gas, US</th>\n",
       "      <th>Natural gas, Europe</th>\n",
       "      <th>Liquefied natural gas, Japan</th>\n",
       "      <th>Natural gas index</th>\n",
       "      <th>...</th>\n",
       "      <th>Aluminum</th>\n",
       "      <th>Iron ore, cfr spot</th>\n",
       "      <th>Copper</th>\n",
       "      <th>Lead</th>\n",
       "      <th>Tin</th>\n",
       "      <th>Nickel</th>\n",
       "      <th>Zinc</th>\n",
       "      <th>Gold</th>\n",
       "      <th>Platinum</th>\n",
       "      <th>Silver</th>\n",
       "    </tr>\n",
       "    <tr>\n",
       "      <th>Unnamed: 0</th>\n",
       "      <th></th>\n",
       "      <th></th>\n",
       "      <th></th>\n",
       "      <th></th>\n",
       "      <th></th>\n",
       "      <th></th>\n",
       "      <th></th>\n",
       "      <th></th>\n",
       "      <th></th>\n",
       "      <th></th>\n",
       "      <th></th>\n",
       "      <th></th>\n",
       "      <th></th>\n",
       "      <th></th>\n",
       "      <th></th>\n",
       "      <th></th>\n",
       "      <th></th>\n",
       "      <th></th>\n",
       "      <th></th>\n",
       "      <th></th>\n",
       "      <th></th>\n",
       "    </tr>\n",
       "  </thead>\n",
       "  <tbody>\n",
       "    <tr>\n",
       "      <th>1960M01</th>\n",
       "      <td>1.63</td>\n",
       "      <td>..</td>\n",
       "      <td>1.63</td>\n",
       "      <td>..</td>\n",
       "      <td>..</td>\n",
       "      <td>..</td>\n",
       "      <td>0.14</td>\n",
       "      <td>0.404774</td>\n",
       "      <td>..</td>\n",
       "      <td>3.624357</td>\n",
       "      <td>...</td>\n",
       "      <td>511.471832</td>\n",
       "      <td>11.42</td>\n",
       "      <td>715.4</td>\n",
       "      <td>206.1</td>\n",
       "      <td>2180.4</td>\n",
       "      <td>1631</td>\n",
       "      <td>260.8</td>\n",
       "      <td>35.27</td>\n",
       "      <td>83.5</td>\n",
       "      <td>0.9137</td>\n",
       "    </tr>\n",
       "    <tr>\n",
       "      <th>1960M02</th>\n",
       "      <td>1.63</td>\n",
       "      <td>..</td>\n",
       "      <td>1.63</td>\n",
       "      <td>..</td>\n",
       "      <td>..</td>\n",
       "      <td>..</td>\n",
       "      <td>0.14</td>\n",
       "      <td>0.404774</td>\n",
       "      <td>..</td>\n",
       "      <td>3.624357</td>\n",
       "      <td>...</td>\n",
       "      <td>511.471832</td>\n",
       "      <td>11.42</td>\n",
       "      <td>728.19</td>\n",
       "      <td>203.7</td>\n",
       "      <td>2180.4</td>\n",
       "      <td>1631</td>\n",
       "      <td>244.9</td>\n",
       "      <td>35.27</td>\n",
       "      <td>83.5</td>\n",
       "      <td>0.9137</td>\n",
       "    </tr>\n",
       "    <tr>\n",
       "      <th>1960M03</th>\n",
       "      <td>1.63</td>\n",
       "      <td>..</td>\n",
       "      <td>1.63</td>\n",
       "      <td>..</td>\n",
       "      <td>..</td>\n",
       "      <td>..</td>\n",
       "      <td>0.14</td>\n",
       "      <td>0.404774</td>\n",
       "      <td>..</td>\n",
       "      <td>3.624357</td>\n",
       "      <td>...</td>\n",
       "      <td>511.471832</td>\n",
       "      <td>11.42</td>\n",
       "      <td>684.94</td>\n",
       "      <td>210.3</td>\n",
       "      <td>2173.8</td>\n",
       "      <td>1631</td>\n",
       "      <td>248.7</td>\n",
       "      <td>35.27</td>\n",
       "      <td>83.5</td>\n",
       "      <td>0.9137</td>\n",
       "    </tr>\n",
       "    <tr>\n",
       "      <th>1960M04</th>\n",
       "      <td>1.63</td>\n",
       "      <td>..</td>\n",
       "      <td>1.63</td>\n",
       "      <td>..</td>\n",
       "      <td>..</td>\n",
       "      <td>..</td>\n",
       "      <td>0.14</td>\n",
       "      <td>0.404774</td>\n",
       "      <td>..</td>\n",
       "      <td>3.624357</td>\n",
       "      <td>...</td>\n",
       "      <td>511.471832</td>\n",
       "      <td>11.42</td>\n",
       "      <td>723.11</td>\n",
       "      <td>213.6</td>\n",
       "      <td>2178.2</td>\n",
       "      <td>1631</td>\n",
       "      <td>254.6</td>\n",
       "      <td>35.27</td>\n",
       "      <td>83.5</td>\n",
       "      <td>0.9137</td>\n",
       "    </tr>\n",
       "    <tr>\n",
       "      <th>1960M05</th>\n",
       "      <td>1.63</td>\n",
       "      <td>..</td>\n",
       "      <td>1.63</td>\n",
       "      <td>..</td>\n",
       "      <td>..</td>\n",
       "      <td>..</td>\n",
       "      <td>0.14</td>\n",
       "      <td>0.404774</td>\n",
       "      <td>..</td>\n",
       "      <td>3.624357</td>\n",
       "      <td>...</td>\n",
       "      <td>511.471832</td>\n",
       "      <td>11.42</td>\n",
       "      <td>684.75</td>\n",
       "      <td>213.4</td>\n",
       "      <td>2162.7</td>\n",
       "      <td>1631</td>\n",
       "      <td>253.8</td>\n",
       "      <td>35.27</td>\n",
       "      <td>83.5</td>\n",
       "      <td>0.9137</td>\n",
       "    </tr>\n",
       "  </tbody>\n",
       "</table>\n",
       "<p>5 rows × 71 columns</p>\n",
       "</div>"
      ],
      "text/plain": [
       "           Crude oil, average Crude oil, Brent Crude oil, Dubai  \\\n",
       "Unnamed: 0                                                        \n",
       "1960M01                  1.63               ..             1.63   \n",
       "1960M02                  1.63               ..             1.63   \n",
       "1960M03                  1.63               ..             1.63   \n",
       "1960M04                  1.63               ..             1.63   \n",
       "1960M05                  1.63               ..             1.63   \n",
       "\n",
       "           Crude oil, WTI Coal, Australian Coal, South African  \\\n",
       "Unnamed: 0                                                       \n",
       "1960M01                ..               ..                  ..   \n",
       "1960M02                ..               ..                  ..   \n",
       "1960M03                ..               ..                  ..   \n",
       "1960M04                ..               ..                  ..   \n",
       "1960M05                ..               ..                  ..   \n",
       "\n",
       "           Natural gas, US Natural gas, Europe Liquefied natural gas, Japan  \\\n",
       "Unnamed: 0                                                                    \n",
       "1960M01               0.14            0.404774                           ..   \n",
       "1960M02               0.14            0.404774                           ..   \n",
       "1960M03               0.14            0.404774                           ..   \n",
       "1960M04               0.14            0.404774                           ..   \n",
       "1960M05               0.14            0.404774                           ..   \n",
       "\n",
       "           Natural gas index  ...    Aluminum Iron ore, cfr spot  Copper  \\\n",
       "Unnamed: 0                    ...                                          \n",
       "1960M01             3.624357  ...  511.471832              11.42   715.4   \n",
       "1960M02             3.624357  ...  511.471832              11.42  728.19   \n",
       "1960M03             3.624357  ...  511.471832              11.42  684.94   \n",
       "1960M04             3.624357  ...  511.471832              11.42  723.11   \n",
       "1960M05             3.624357  ...  511.471832              11.42  684.75   \n",
       "\n",
       "             Lead     Tin Nickel   Zinc   Gold Platinum  Silver  \n",
       "Unnamed: 0                                                       \n",
       "1960M01     206.1  2180.4   1631  260.8  35.27     83.5  0.9137  \n",
       "1960M02     203.7  2180.4   1631  244.9  35.27     83.5  0.9137  \n",
       "1960M03     210.3  2173.8   1631  248.7  35.27     83.5  0.9137  \n",
       "1960M04     213.6  2178.2   1631  254.6  35.27     83.5  0.9137  \n",
       "1960M05     213.4  2162.7   1631  253.8  35.27     83.5  0.9137  \n",
       "\n",
       "[5 rows x 71 columns]"
      ]
     },
     "execution_count": 152,
     "metadata": {},
     "output_type": "execute_result"
    }
   ],
   "source": [
    "df = pd.read_excel('Test.xlsx')  \n",
    "# я не смог вывести исходный эксель. Поэтому руками перекинул первую страницу в другой файл и удалил первые строки.\n",
    "df.drop([0, 1], axis=0, inplace=True)\n",
    "df.set_index('Unnamed: 0', inplace=True)\n",
    "df.head()"
   ]
  },
  {
   "cell_type": "markdown",
   "id": "52120af2",
   "metadata": {},
   "source": [
    "Я рассмотрю 'Sugar, US', 'Coffee, Arabica ', ' Banana, US'."
   ]
  },
  {
   "cell_type": "code",
   "execution_count": 153,
   "id": "74fec230",
   "metadata": {},
   "outputs": [],
   "source": [
    "df['Sugar, US'] = pd.to_numeric(df['Sugar, US']) # данные представлены изначально в типе 'object', перевожу в float64\n",
    "df['Coffee, Arabica'] = pd.to_numeric(df['Coffee, Arabica'])\n",
    "df['Banana, US'] = pd.to_numeric(df['Banana, US'])"
   ]
  },
  {
   "cell_type": "markdown",
   "id": "59e3d555",
   "metadata": {},
   "source": [
    "### 2. Рассчитайте корреляции по каждой паре из выбранных рядов и сделайте выводы о наличии зависимостей между показателями."
   ]
  },
  {
   "cell_type": "code",
   "execution_count": 154,
   "id": "1e3b805a",
   "metadata": {},
   "outputs": [
    {
     "name": "stdout",
     "output_type": "stream",
     "text": [
      "Корреляция пары \"Sugar, US\" и \"Coffee, Arabica\" составила: 0.601801992845182.\n",
      "Корреляция пары \"Sugar, US\" и \"Banana, US\" составила: 0.7001490239037934.\n",
      "Корреляция пары \"Banana, US\" и \"Coffee, Arabica\" составила: 0.5611625551914091.\n"
     ]
    }
   ],
   "source": [
    "sug_coff_corr = np.corrcoef(df['Sugar, US'], df['Coffee, Arabica'])[0][1]\n",
    "sug_banan_corr = np.corrcoef(df['Sugar, US'], df['Banana, US'])[0][1]\n",
    "coff_banan_corr = np.corrcoef(df['Banana, US'], df['Coffee, Arabica'])[0][1]\n",
    "\n",
    "print(f'Корреляция пары \"Sugar, US\" и \"Coffee, Arabica\" составила: {sug_coff_corr}.')\n",
    "print(f'Корреляция пары \"Sugar, US\" и \"Banana, US\" составила: {sug_banan_corr}.')\n",
    "print(f'Корреляция пары \"Banana, US\" и \"Coffee, Arabica\" составила: {coff_banan_corr}.')"
   ]
  },
  {
   "cell_type": "markdown",
   "id": "8768eff3",
   "metadata": {},
   "source": [
    "Определяя с какими рядами я буду работать, я предположил, что кофе и сахар будут иметь высокую корреляцию, поскольку являются товарами-субститутами. Сахар и бананы в некотором своем проявлении являются товарами-комплементами и, следовательно должны иметь низкий (или даже отрицательный коэффициент корреляции). Полученные значения говорят лишь о том, что мои предположения оказались ложны: общая тенденция к росту цен и высокая общая потребительская полезность товаров приводит к их сонаправленности в большей степени, чем их взаимосвязь в глазах потребителя."
   ]
  },
  {
   "cell_type": "markdown",
   "id": "6d3e685a",
   "metadata": {},
   "source": [
    "# Задание 2. Доверительные интервалы"
   ]
  },
  {
   "cell_type": "markdown",
   "id": "32743af1",
   "metadata": {},
   "source": [
    "## 2.1. Генерация выборок (10 баллов)"
   ]
  },
  {
   "cell_type": "markdown",
   "id": "f5e28b29",
   "metadata": {},
   "source": [
    "### 1. Сгенерируйте 3 выборки из нормального распределения с параметрами μ = a1, σ^2 = a3 объемом 100, 300 и 1000 наблюдений."
   ]
  },
  {
   "cell_type": "code",
   "execution_count": 155,
   "id": "baebce3a",
   "metadata": {},
   "outputs": [
    {
     "data": {
      "text/plain": [
       "array([15.81733321, 20.2542874 , 17.22015628, 19.94290977, 17.0947392 ])"
      ]
     },
     "execution_count": 155,
     "metadata": {},
     "output_type": "execute_result"
    }
   ],
   "source": [
    "np.random.seed(5401860)\n",
    "norm_rv= sts.norm(loc=a1, scale=np.sqrt(a3))\n",
    "norm_100 = norm_rv.rvs(100)\n",
    "norm_300 = norm_rv.rvs(300)\n",
    "norm_1000 = norm_rv.rvs(1000)\n",
    "norm_1000[:5]"
   ]
  },
  {
   "cell_type": "markdown",
   "id": "cbbd1b4b",
   "metadata": {},
   "source": [
    "### 2. Сгенерируйте 3 выборки из экспоненциального распределения с параметром λ = 1 / b2 объемом 100, 300 и 1000 наблюдений."
   ]
  },
  {
   "cell_type": "code",
   "execution_count": 156,
   "id": "ab4cc3dd",
   "metadata": {},
   "outputs": [
    {
     "data": {
      "text/plain": [
       "array([25.13290173, 41.5176303 , 34.55715559, 41.82866453, 36.68496744])"
      ]
     },
     "execution_count": 156,
     "metadata": {},
     "output_type": "execute_result"
    }
   ],
   "source": [
    "np.random.seed(5401860)\n",
    "exp_rv= sts.expon(loc = b2, scale = b2)\n",
    "exp_100 = exp_rv.rvs(100)\n",
    "exp_300 = exp_rv.rvs(300)\n",
    "exp_1000 = exp_rv.rvs(1000)\n",
    "exp_1000[:5]"
   ]
  },
  {
   "cell_type": "markdown",
   "id": "157ff1db",
   "metadata": {},
   "source": [
    "### 3. Сгенерируйте 3 выборки из равномерного на (c3, c2 + c3), распределения объемом 100, 300 и 1000 наблюдений."
   ]
  },
  {
   "cell_type": "code",
   "execution_count": 157,
   "id": "f0ff375c",
   "metadata": {},
   "outputs": [
    {
     "data": {
      "text/plain": [
       "array([ 8.8877009 , 12.55040314, 11.52384583, 12.58467416, 11.89770672])"
      ]
     },
     "execution_count": 157,
     "metadata": {},
     "output_type": "execute_result"
    }
   ],
   "source": [
    "np.random.seed(5401860)\n",
    "uniform_rv= sts.uniform(c3, c2)\n",
    "uniform_100 = uniform_rv.rvs(100)\n",
    "uniform_300 = uniform_rv.rvs(300)\n",
    "uniform_1000 = uniform_rv.rvs(1000)\n",
    "uniform_1000[:5]"
   ]
  },
  {
   "cell_type": "markdown",
   "id": "5939191c",
   "metadata": {},
   "source": [
    "## 2.2. Доверительные интервалы для одного параметра (10 баллов)"
   ]
  },
  {
   "cell_type": "markdown",
   "id": "7066941c",
   "metadata": {},
   "source": [
    "### 1. Для каждой выборки из пункта 2.1, предполагая ее нормальность, рассчитайте 90% и 95% доверительные интервалы для математического ожидания, предполагая дисперсию известной."
   ]
  },
  {
   "cell_type": "markdown",
   "id": "e1ea839b",
   "metadata": {},
   "source": [
    "#### Определю функцию, которая будет выводить необходимый ДИ."
   ]
  },
  {
   "cell_type": "code",
   "execution_count": 158,
   "id": "5499ed5a",
   "metadata": {},
   "outputs": [],
   "source": [
    "def z_interval(arr, var, alpha):\n",
    "    \n",
    "    n = len(arr)\n",
    "    \n",
    "    z = sts.norm.ppf(1 - (alpha / 2))\n",
    "        \n",
    "    l = np.mean(arr) - z * np.sqrt(var) / np.sqrt(n)\n",
    "    r = np.mean(arr) + z * np.sqrt(var) / np.sqrt(n)\n",
    "    return l, r"
   ]
  },
  {
   "cell_type": "markdown",
   "id": "e49ff983",
   "metadata": {},
   "source": [
    "#### Равномерное распределение"
   ]
  },
  {
   "cell_type": "code",
   "execution_count": 159,
   "id": "169013ee",
   "metadata": {},
   "outputs": [
    {
     "name": "stdout",
     "output_type": "stream",
     "text": [
      "Оцениваю параметр = 7.5.\n",
      "\n",
      "ДИ при 100 наблюдений и alpha = 0.1: (6.767675994766398 ; 8.002229684353752)\n",
      "ДИ при 100 наблюдений и alpha = 0.05: (6.649422112410563 ; 8.120483566709586)\n",
      "ДИ при 300 наблюдений и alpha = 0.1: (6.834179504773089 ; 7.546949409785394)\n",
      "ДИ при 300 наблюдений и alpha = 0.05: (6.76590559396223 ; 7.615223320596253)\n",
      "ДИ при 1000 наблюдений и alpha = 0.1: (7.086673423931719 ; 7.477073579217773)\n",
      "ДИ при 1000 наблюдений и alpha = 0.05: (7.049278262891516 ; 7.514468740257977)\n"
     ]
    }
   ],
   "source": [
    "print(f'Оцениваю параметр = {uniform_rv.mean()}.')\n",
    "print()\n",
    "\n",
    "l, r = z_interval(uniform_100, uniform_rv.var(), 0.1) # подаю дисперсию распределения, поскольку она известна\n",
    "print(f'ДИ при 100 наблюдений и alpha = 0.1: ({l} ; {r})')\n",
    "\n",
    "l, r = z_interval(uniform_100, uniform_rv.var(), 0.05)\n",
    "print(f'ДИ при 100 наблюдений и alpha = 0.05: ({l} ; {r})')\n",
    "\n",
    "l, r = z_interval(uniform_300, uniform_rv.var(), 0.1)\n",
    "print(f'ДИ при 300 наблюдений и alpha = 0.1: ({l} ; {r})')\n",
    "\n",
    "l, r = z_interval(uniform_300, uniform_rv.var(), 0.05)\n",
    "print(f'ДИ при 300 наблюдений и alpha = 0.05: ({l} ; {r})')\n",
    "\n",
    "l, r = z_interval(uniform_1000, uniform_rv.var(), 0.1)\n",
    "print(f'ДИ при 1000 наблюдений и alpha = 0.1: ({l} ; {r})')\n",
    "\n",
    "l, r = z_interval(uniform_1000, uniform_rv.var(), 0.05)\n",
    "print(f'ДИ при 1000 наблюдений и alpha = 0.05: ({l} ; {r})')"
   ]
  },
  {
   "cell_type": "markdown",
   "id": "4b328696",
   "metadata": {},
   "source": [
    "#### Нормальное распределение"
   ]
  },
  {
   "cell_type": "code",
   "execution_count": 160,
   "id": "ed10abf7",
   "metadata": {},
   "outputs": [
    {
     "name": "stdout",
     "output_type": "stream",
     "text": [
      "Оцениваю параметр = 18.0.\n",
      "\n",
      "ДИ при 100 наблюдений и alpha = 0.1: (17.53788991202407 ; 18.273490816604188)\n",
      "ДИ при 100 наблюдений и alpha = 0.05: (17.46742909402584 ; 18.34395163460242)\n",
      "ДИ при 300 наблюдений и alpha = 0.1: (17.560075793760653 ; 17.984775174036116)\n",
      "ДИ при 300 наблюдений и alpha = 0.05: (17.519395221522053 ; 18.025455746274716)\n",
      "ДИ при 1000 наблюдений и alpha = 0.1: (17.86425969306883 ; 18.096877123804163)\n",
      "ДИ при 1000 наблюдений и alpha = 0.05: (17.84197802600153 ; 18.119158790871463)\n"
     ]
    }
   ],
   "source": [
    "print(f'Оцениваю параметр = {norm_rv.mean()}.')\n",
    "print()\n",
    "\n",
    "l, r = z_interval(norm_100, norm_rv.var(), 0.1)\n",
    "print(f'ДИ при 100 наблюдений и alpha = 0.1: ({l} ; {r})')\n",
    "\n",
    "l, r = z_interval(norm_100, norm_rv.var(), 0.05)\n",
    "print(f'ДИ при 100 наблюдений и alpha = 0.05: ({l} ; {r})')\n",
    "\n",
    "l, r = z_interval(norm_300, norm_rv.var(), 0.1)\n",
    "print(f'ДИ при 300 наблюдений и alpha = 0.1: ({l} ; {r})')\n",
    "\n",
    "l, r = z_interval(norm_300, norm_rv.var(), 0.05)\n",
    "print(f'ДИ при 300 наблюдений и alpha = 0.05: ({l} ; {r})')\n",
    "\n",
    "l, r = z_interval(norm_1000, norm_rv.var(), 0.1)\n",
    "print(f'ДИ при 1000 наблюдений и alpha = 0.1: ({l} ; {r})')\n",
    "\n",
    "l, r = z_interval(norm_1000, norm_rv.var(), 0.05)\n",
    "print(f'ДИ при 1000 наблюдений и alpha = 0.05: ({l} ; {r})')"
   ]
  },
  {
   "cell_type": "markdown",
   "id": "1ec72d32",
   "metadata": {},
   "source": [
    "#### Показательное распределение"
   ]
  },
  {
   "cell_type": "code",
   "execution_count": 161,
   "id": "970ab4e0",
   "metadata": {},
   "outputs": [
    {
     "name": "stdout",
     "output_type": "stream",
     "text": [
      "Оцениваю параметр = 26.0.\n",
      "\n",
      "ДИ при 100 наблюдений и alpha = 0.1: (22.84482575905506 ; 27.121445189128888)\n",
      "ДИ при 300 наблюдений и alpha = 0.05: (22.435182294189904 ; 27.531088653994043)\n",
      "ДИ при 300 наблюдений и alpha = 0.1: (23.704365822945054 ; 26.173473202119762)\n",
      "ДИ при 300 наблюдений и alpha = 0.05: (23.467858058233386 ; 26.40998096683143)\n",
      "ДИ при 1000 наблюдений и alpha = 0.1: (24.80732637825406 ; 26.15971218673051)\n",
      "ДИ при 1000 наблюдений и alpha = 0.05: (24.677785740496354 ; 26.289252824488216)\n"
     ]
    }
   ],
   "source": [
    "print(f'Оцениваю параметр = {exp_rv.mean()}.')\n",
    "print()\n",
    "\n",
    "l, r = z_interval(exp_100, exp_rv.var(), 0.1)\n",
    "print(f'ДИ при 100 наблюдений и alpha = 0.1: ({l} ; {r})')\n",
    "\n",
    "l, r = z_interval(exp_100, exp_rv.var(), 0.05)\n",
    "print(f'ДИ при 300 наблюдений и alpha = 0.05: ({l} ; {r})')\n",
    "\n",
    "l, r = z_interval(exp_300, exp_rv.var(), 0.1)\n",
    "print(f'ДИ при 300 наблюдений и alpha = 0.1: ({l} ; {r})')\n",
    "\n",
    "l, r = z_interval(exp_300, exp_rv.var(), 0.05)\n",
    "print(f'ДИ при 300 наблюдений и alpha = 0.05: ({l} ; {r})')\n",
    "\n",
    "l, r = z_interval(exp_1000, exp_rv.var(), 0.1)\n",
    "print(f'ДИ при 1000 наблюдений и alpha = 0.1: ({l} ; {r})')\n",
    "\n",
    "l, r = z_interval(exp_1000, exp_rv.var(), 0.05)\n",
    "print(f'ДИ при 1000 наблюдений и alpha = 0.05: ({l} ; {r})')"
   ]
  },
  {
   "cell_type": "markdown",
   "id": "140883a2",
   "metadata": {},
   "source": [
    "### 2. Для каждой выборки из пункта 2.1, предполагая ее нормальность, рассчитайте 90% и 95% доверительные интервалы для математического ожидания, предполагая дисперсию неизвестной."
   ]
  },
  {
   "cell_type": "markdown",
   "id": "120cf51d",
   "metadata": {},
   "source": [
    "#### Определю функцию, которая будет выводить необходимый ДИ."
   ]
  },
  {
   "cell_type": "code",
   "execution_count": 162,
   "id": "cfc79a33",
   "metadata": {},
   "outputs": [],
   "source": [
    "def t_interval(arr, alpha):\n",
    "    \n",
    "    n = len(arr)\n",
    "\n",
    "    t = sts.t(n - 1).ppf(1 - alpha / 2)\n",
    "    \n",
    "    l = np.mean(arr) - t * np.std(arr) / np.sqrt(n)\n",
    "    r = np.mean(arr) + t * np.std(arr) / np.sqrt(n)\n",
    "    return l, r"
   ]
  },
  {
   "cell_type": "markdown",
   "id": "bad2608d",
   "metadata": {},
   "source": [
    "#### Равномерное распределение"
   ]
  },
  {
   "cell_type": "code",
   "execution_count": 163,
   "id": "ad6b34f2",
   "metadata": {},
   "outputs": [
    {
     "name": "stdout",
     "output_type": "stream",
     "text": [
      "Оцениваю параметр = 7.5.\n",
      "\n",
      "ДИ при 100 наблюдений и alpha = 0.1: (6.781070397319626 ; 7.988835281800524)\n",
      "ДИ при 100 наблюдений и alpha = 0.05: (6.663295310679231 ; 8.106610368440919)\n",
      "ДИ при 300 наблюдений и alpha = 0.1: (6.834298078775936 ; 7.546830835782546)\n",
      "ДИ при 300 наблюдений и alpha = 0.05: (6.765642201200715 ; 7.615486713357767)\n",
      "ДИ при 1000 наблюдений и alpha = 0.1: (7.084916070714376 ; 7.478830932435116)\n",
      "ДИ при 1000 наблюдений и alpha = 0.05: (7.047117460099249 ; 7.516629543050243)\n"
     ]
    }
   ],
   "source": [
    "print(f'Оцениваю параметр = {uniform_rv.mean()}.')\n",
    "print()\n",
    "\n",
    "l, r = t_interval(uniform_100, 0.1)\n",
    "print(f'ДИ при 100 наблюдений и alpha = 0.1: ({l} ; {r})')\n",
    "\n",
    "l, r = t_interval(uniform_100, 0.05)\n",
    "print(f'ДИ при 100 наблюдений и alpha = 0.05: ({l} ; {r})')\n",
    "\n",
    "l, r = t_interval(uniform_300, 0.1)\n",
    "print(f'ДИ при 300 наблюдений и alpha = 0.1: ({l} ; {r})')\n",
    "\n",
    "l, r = t_interval(uniform_300, 0.05)\n",
    "print(f'ДИ при 300 наблюдений и alpha = 0.05: ({l} ; {r})')\n",
    "\n",
    "l, r = t_interval(uniform_1000, 0.1)\n",
    "print(f'ДИ при 1000 наблюдений и alpha = 0.1: ({l} ; {r})')\n",
    "\n",
    "l, r = t_interval(uniform_1000, 0.05)\n",
    "print(f'ДИ при 1000 наблюдений и alpha = 0.05: ({l} ; {r})')"
   ]
  },
  {
   "cell_type": "markdown",
   "id": "c4fc0067",
   "metadata": {},
   "source": [
    "#### Нормальное распределение"
   ]
  },
  {
   "cell_type": "code",
   "execution_count": 164,
   "id": "e91ad4d2",
   "metadata": {},
   "outputs": [
    {
     "name": "stdout",
     "output_type": "stream",
     "text": [
      "Оцениваю параметр = 18.0.\n",
      "\n",
      "ДИ при 100 наблюдений и alpha = 0.1: (17.554671708497562 ; 18.256709020130696)\n",
      "ДИ при 100 наблюдений и alpha = 0.05: (17.48621260170881 ; 18.325168126919447)\n",
      "ДИ при 300 наблюдений и alpha = 0.1: (17.561407141414772 ; 17.983443826381997)\n",
      "ДИ при 300 наблюдений и alpha = 0.05: (17.520741924706574 ; 18.024109043090196)\n",
      "ДИ при 1000 наблюдений и alpha = 0.1: (17.863350992907826 ; 18.097785823965168)\n",
      "ДИ при 1000 наблюдений и alpha = 0.05: (17.840855495136935 ; 18.12028132173606)\n"
     ]
    }
   ],
   "source": [
    "print(f'Оцениваю параметр = {norm_rv.mean()}.')\n",
    "print()\n",
    "\n",
    "l, r = t_interval(norm_100, 0.1)\n",
    "print(f'ДИ при 100 наблюдений и alpha = 0.1: ({l} ; {r})')\n",
    "\n",
    "l, r = t_interval(norm_100, 0.05)\n",
    "print(f'ДИ при 100 наблюдений и alpha = 0.05: ({l} ; {r})')\n",
    "\n",
    "l, r = t_interval(norm_300, 0.1)\n",
    "print(f'ДИ при 300 наблюдений и alpha = 0.1: ({l} ; {r})')\n",
    "\n",
    "l, r = t_interval(norm_300, 0.05)\n",
    "print(f'ДИ при 300 наблюдений и alpha = 0.05: ({l} ; {r})')\n",
    "\n",
    "l, r = t_interval(norm_1000, 0.1)\n",
    "print(f'ДИ при 1000 наблюдений и alpha = 0.1: ({l} ; {r})')\n",
    "\n",
    "l, r = t_interval(norm_1000, 0.05)\n",
    "print(f'ДИ при 1000 наблюдений и alpha = 0.05: ({l} ; {r})')"
   ]
  },
  {
   "cell_type": "markdown",
   "id": "ec77d317",
   "metadata": {},
   "source": [
    "#### Показательное распределение"
   ]
  },
  {
   "cell_type": "code",
   "execution_count": 165,
   "id": "4d7551bc",
   "metadata": {},
   "outputs": [
    {
     "name": "stdout",
     "output_type": "stream",
     "text": [
      "Оцениваю параметр = 26.0.\n",
      "\n",
      "ДИ при 100 наблюдений и alpha = 0.1: (23.17542640243143 ; 26.790844545752517)\n",
      "ДИ при 100 наблюдений и alpha = 0.05: (22.822869219703012 ; 27.143401728480935)\n",
      "ДИ при 300 наблюдений и alpha = 0.1: (23.81181790457935 ; 26.066021120485466)\n",
      "ДИ при 300 наблюдений и alpha = 0.05: (23.59461483777426 ; 26.283224187290557)\n",
      "ДИ при 1000 наблюдений и alpha = 0.1: (24.797966175091922 ; 26.169072389892648)\n",
      "ДИ при 1000 наблюдений и alpha = 0.05: (24.666399902880606 ; 26.300638662103964)\n"
     ]
    }
   ],
   "source": [
    "print(f'Оцениваю параметр = {exp_rv.mean()}.')\n",
    "print()\n",
    "\n",
    "l, r = t_interval(exp_100, 0.1)\n",
    "print(f'ДИ при 100 наблюдений и alpha = 0.1: ({l} ; {r})')\n",
    "\n",
    "l, r = t_interval(exp_100, 0.05)\n",
    "print(f'ДИ при 100 наблюдений и alpha = 0.05: ({l} ; {r})')\n",
    "\n",
    "l, r = t_interval(exp_300, 0.1)\n",
    "print(f'ДИ при 300 наблюдений и alpha = 0.1: ({l} ; {r})')\n",
    "\n",
    "l, r = t_interval(exp_300, 0.05)\n",
    "print(f'ДИ при 300 наблюдений и alpha = 0.05: ({l} ; {r})')\n",
    "\n",
    "l, r = t_interval(exp_1000, 0.1)\n",
    "print(f'ДИ при 1000 наблюдений и alpha = 0.1: ({l} ; {r})')\n",
    "\n",
    "l, r = t_interval(exp_1000, 0.05)\n",
    "print(f'ДИ при 1000 наблюдений и alpha = 0.05: ({l} ; {r})')"
   ]
  },
  {
   "cell_type": "markdown",
   "id": "ee341f9f",
   "metadata": {},
   "source": [
    "### 3. Для каждой выборки из пункта 2.1, предполагая ее нормальность, рассчитайте 90% и 95% доверительные интервалы для дисперсии и стандартного отклонения, предполагая математическое ожидание известным."
   ]
  },
  {
   "cell_type": "markdown",
   "id": "c7790dd9",
   "metadata": {},
   "source": [
    "#### Определю функцию, которая будет выводить необходимый ДИ."
   ]
  },
  {
   "cell_type": "code",
   "execution_count": 166,
   "id": "23a43bb3",
   "metadata": {},
   "outputs": [],
   "source": [
    "def chi_var_interval_with_mean_known(arr, μ, alpha):\n",
    "    \n",
    "    n = len(arr)\n",
    "    \n",
    "    counter = 0\n",
    "    for i in arr:\n",
    "        counter += (i - μ) ** 2 # явным образом получаю сумму квадратов отклонения от истинного мат ожидания\n",
    "    \n",
    "    chi2_ = sts.chi2(n)\n",
    "    chi1 = chi2_.ppf(1 - alpha / 2)\n",
    "    chi2 = chi2_.ppf(alpha / 2)\n",
    "    \n",
    "    l = counter / chi1\n",
    "    r = counter / chi2\n",
    "    return l, r"
   ]
  },
  {
   "cell_type": "markdown",
   "id": "1718424c",
   "metadata": {},
   "source": [
    "#### Равномерное распределение"
   ]
  },
  {
   "cell_type": "code",
   "execution_count": 167,
   "id": "32c7050e",
   "metadata": {
    "scrolled": true
   },
   "outputs": [
    {
     "name": "stdout",
     "output_type": "stream",
     "text": [
      "Оцениваю параметр = 14.083333333333332.\n",
      "\n",
      "ДИ при 100 наблюдений и alpha = 0.1: (10.648785598131703 ; 16.990909711160267)\n",
      "ДИ при 100 наблюдений и alpha = 0.05: (10.219823027403802 ; 17.839640541606375)\n",
      "ДИ при 300 наблюдений и alpha = 0.1: (12.375078167329091 ; 16.19450161421986)\n",
      "ДИ при 300 наблюдений и alpha = 0.05: (12.075162878900697 ; 16.638779697605212)\n",
      "ДИ при 1000 наблюдений и alpha = 0.1: (13.361243824051888 ; 15.479885088344062)\n",
      "ДИ при 1000 наблюдений и alpha = 0.05: (13.17911587436244 ; 15.705706089900874)\n"
     ]
    }
   ],
   "source": [
    "print(f'Оцениваю параметр = {uniform_rv.var()}.')\n",
    "print()\n",
    "\n",
    "l, r = chi_var_interval_with_mean_known(uniform_100, uniform_rv.mean(), 0.1) # подаю мат ожидание распределения, поскольку она известна\n",
    "print(f'ДИ при 100 наблюдений и alpha = 0.1: ({l} ; {r})')\n",
    "\n",
    "l, r = chi_var_interval_with_mean_known(uniform_100, uniform_rv.mean(), 0.05)\n",
    "print(f'ДИ при 100 наблюдений и alpha = 0.05: ({l} ; {r})')\n",
    "\n",
    "l, r = chi_var_interval_with_mean_known(uniform_300, uniform_rv.mean(), 0.1)\n",
    "print(f'ДИ при 300 наблюдений и alpha = 0.1: ({l} ; {r})')\n",
    "\n",
    "l, r = chi_var_interval_with_mean_known(uniform_300, uniform_rv.mean(), 0.05)\n",
    "print(f'ДИ при 300 наблюдений и alpha = 0.05: ({l} ; {r})')\n",
    "\n",
    "l, r = chi_var_interval_with_mean_known(uniform_1000, uniform_rv.mean(), 0.1)\n",
    "print(f'ДИ при 1000 наблюдений и alpha = 0.1: ({l} ; {r})')\n",
    "\n",
    "l, r = chi_var_interval_with_mean_known(uniform_1000, uniform_rv.mean(), 0.05)\n",
    "print(f'ДИ при 1000 наблюдений и alpha = 0.05: ({l} ; {r})')"
   ]
  },
  {
   "cell_type": "markdown",
   "id": "9262c8b2",
   "metadata": {},
   "source": [
    "#### Нормальное распределение"
   ]
  },
  {
   "cell_type": "code",
   "execution_count": 168,
   "id": "2a4ec8c0",
   "metadata": {},
   "outputs": [
    {
     "name": "stdout",
     "output_type": "stream",
     "text": [
      "Оцениваю параметр = 5.000000000000001.\n",
      "\n",
      "ДИ при 100 наблюдений и alpha = 0.1: (3.601511086206902 ; 5.746472132955736)\n",
      "ДИ при 100 наблюдений и alpha = 0.05: (3.4564322469526494 ; 6.033520216222014)\n",
      "ДИ при 300 наблюдений и alpha = 0.1: (4.357480727950803 ; 5.702366298504093)\n",
      "ДИ при 300 наблюдений и alpha = 0.05: (4.251875327186971 ; 5.858804355704699)\n",
      "ДИ при 1000 наблюдений и alpha = 0.1: (4.717124541743349 ; 5.465100915391477)\n",
      "ДИ при 1000 наблюдений и alpha = 0.05: (4.652825122278301 ; 5.544825962139532)\n"
     ]
    }
   ],
   "source": [
    "print(f'Оцениваю параметр = {norm_rv.var()}.')\n",
    "print()\n",
    "\n",
    "l, r = chi_var_interval_with_mean_known(norm_100, norm_rv.mean(), 0.1)\n",
    "print(f'ДИ при 100 наблюдений и alpha = 0.1: ({l} ; {r})')\n",
    "\n",
    "l, r = chi_var_interval_with_mean_known(norm_100, norm_rv.mean(), 0.05)\n",
    "print(f'ДИ при 100 наблюдений и alpha = 0.05: ({l} ; {r})')\n",
    "\n",
    "l, r = chi_var_interval_with_mean_known(norm_300, norm_rv.mean(), 0.1)\n",
    "print(f'ДИ при 300 наблюдений и alpha = 0.1: ({l} ; {r})')\n",
    "\n",
    "l, r = chi_var_interval_with_mean_known(norm_300, norm_rv.mean(), 0.05)\n",
    "print(f'ДИ при 300 наблюдений и alpha = 0.05: ({l} ; {r})')\n",
    "\n",
    "l, r = chi_var_interval_with_mean_known(norm_1000, norm_rv.mean(), 0.1)\n",
    "print(f'ДИ при 1000 наблюдений и alpha = 0.1: ({l} ; {r})')\n",
    "\n",
    "l, r = chi_var_interval_with_mean_known(norm_1000, norm_rv.mean(), 0.05)\n",
    "print(f'ДИ при 1000 наблюдений и alpha = 0.05: ({l} ; {r})')"
   ]
  },
  {
   "cell_type": "markdown",
   "id": "a72590db",
   "metadata": {},
   "source": [
    "#### Показательное распределение"
   ]
  },
  {
   "cell_type": "code",
   "execution_count": 169,
   "id": "5e3cb690",
   "metadata": {},
   "outputs": [
    {
     "name": "stdout",
     "output_type": "stream",
     "text": [
      "Оцениваю параметр = 169.0.\n",
      "\n",
      "ДИ при 100 наблюдений и alpha = 0.1: (96.15904440430835 ; 153.42872915684435)\n",
      "ДИ при 100 наблюдений и alpha = 0.05: (92.28549182816789 ; 161.0928092399753)\n",
      "ДИ при 300 наблюдений и alpha = 0.1: (124.00534037543784 ; 162.27814141681023)\n",
      "ДИ при 300 наблюдений и alpha = 0.05: (121.00001815262172 ; 166.73006117090085)\n",
      "ДИ при 1000 наблюдений и alpha = 0.1: (161.58853716095484 ; 187.21101267102222)\n",
      "ДИ при 1000 наблюдений и alpha = 0.05: (159.3859137110733 ; 189.94205221960829)\n"
     ]
    }
   ],
   "source": [
    "print(f'Оцениваю параметр = {exp_rv.var()}.')\n",
    "print()\n",
    "\n",
    "l, r = chi_var_interval_with_mean_known(exp_100, exp_rv.mean(), 0.1)\n",
    "print(f'ДИ при 100 наблюдений и alpha = 0.1: ({l} ; {r})')\n",
    "\n",
    "l, r = chi_var_interval_with_mean_known(exp_100, exp_rv.mean(), 0.05)\n",
    "print(f'ДИ при 100 наблюдений и alpha = 0.05: ({l} ; {r})')\n",
    "\n",
    "l, r = chi_var_interval_with_mean_known(exp_300, exp_rv.mean(), 0.1)\n",
    "print(f'ДИ при 300 наблюдений и alpha = 0.1: ({l} ; {r})')\n",
    "\n",
    "l, r = chi_var_interval_with_mean_known(exp_300, exp_rv.mean(), 0.05)\n",
    "print(f'ДИ при 300 наблюдений и alpha = 0.05: ({l} ; {r})')\n",
    "\n",
    "l, r = chi_var_interval_with_mean_known(exp_1000, exp_rv.mean(), 0.1)\n",
    "print(f'ДИ при 1000 наблюдений и alpha = 0.1: ({l} ; {r})')\n",
    "\n",
    "l, r = chi_var_interval_with_mean_known(exp_1000,exp_rv.mean(), 0.05)\n",
    "print(f'ДИ при 1000 наблюдений и alpha = 0.05: ({l} ; {r})')"
   ]
  },
  {
   "cell_type": "markdown",
   "id": "b268a23a",
   "metadata": {},
   "source": [
    "### 4. Для каждой выборки из пункта 2.1, предполагая ее нормальность, рассчитайте 90% и 95% доверительные интервалы для дисперсии и стандартного отклонения, предполагая математическое ожидание неизвестным."
   ]
  },
  {
   "cell_type": "markdown",
   "id": "35452546",
   "metadata": {},
   "source": [
    "#### Определю функцию, которая будет выводить необходимый ДИ."
   ]
  },
  {
   "cell_type": "code",
   "execution_count": 170,
   "id": "42ecea30",
   "metadata": {},
   "outputs": [],
   "source": [
    "def chi_var_interval(arr, alpha):\n",
    "    \n",
    "    n = len(arr)\n",
    "    \n",
    "    chi2_ = sts.chi2(n - 1)\n",
    "    chi1 = chi2_.ppf(1 - alpha / 2)\n",
    "    chi2 = chi2_.ppf(alpha / 2)\n",
    "    \n",
    "    l = (n - 1) * np.var(arr) / chi1\n",
    "    r = (n - 1) * np.var(arr) / chi2\n",
    "    return l, r"
   ]
  },
  {
   "cell_type": "markdown",
   "id": "f2f88eb6",
   "metadata": {},
   "source": [
    "#### Равномерное распределение"
   ]
  },
  {
   "cell_type": "code",
   "execution_count": 171,
   "id": "a779e92f",
   "metadata": {},
   "outputs": [
    {
     "name": "stdout",
     "output_type": "stream",
     "text": [
      "Оцениваю параметр = 14.083333333333332.\n",
      "\n",
      "ДИ при 100 наблюдений и alpha = 0.1: (10.627217519957714 ; 16.996801802913538)\n",
      "ДИ при 100 наблюдений и alpha = 0.05: (10.197172977609446 ; 17.850626366396217)\n",
      "ДИ при 300 наблюдений и alpha = 0.1: (12.288383687967277 ; 16.088299620475684)\n",
      "ДИ при 300 наблюдений и alpha = 0.05: (11.990100642121105 ; 16.530450744438447)\n",
      "ДИ при 1000 наблюдений и alpha = 0.1: (13.3165010677545 ; 15.429184886967148)\n",
      "ДИ при 1000 наблюдений и alpha = 0.05: (13.134895147386517 ; 15.654382870976526)\n"
     ]
    }
   ],
   "source": [
    "print(f'Оцениваю параметр = {uniform_rv.var()}.')\n",
    "print()\n",
    "\n",
    "l, r = chi_var_interval(uniform_100, 0.1)\n",
    "print(f'ДИ при 100 наблюдений и alpha = 0.1: ({l} ; {r})')\n",
    "\n",
    "l, r = chi_var_interval(uniform_100, 0.05)\n",
    "print(f'ДИ при 100 наблюдений и alpha = 0.05: ({l} ; {r})')\n",
    "\n",
    "l, r = chi_var_interval(uniform_300, 0.1)\n",
    "print(f'ДИ при 300 наблюдений и alpha = 0.1: ({l} ; {r})')\n",
    "\n",
    "l, r = chi_var_interval(uniform_300, 0.05)\n",
    "print(f'ДИ при 300 наблюдений и alpha = 0.05: ({l} ; {r})')\n",
    "\n",
    "l, r = chi_var_interval(uniform_1000, 0.1)\n",
    "print(f'ДИ при 1000 наблюдений и alpha = 0.1: ({l} ; {r})')\n",
    "\n",
    "l, r = chi_var_interval(uniform_1000, 0.05)\n",
    "print(f'ДИ при 1000 наблюдений и alpha = 0.05: ({l} ; {r})')"
   ]
  },
  {
   "cell_type": "markdown",
   "id": "0d0fcf29",
   "metadata": {},
   "source": [
    "#### Нормальное распределение"
   ]
  },
  {
   "cell_type": "code",
   "execution_count": 172,
   "id": "a731349e",
   "metadata": {},
   "outputs": [
    {
     "name": "stdout",
     "output_type": "stream",
     "text": [
      "Оцениваю параметр = 5.000000000000001.\n",
      "\n",
      "ДИ при 100 наблюдений и alpha = 0.1: (3.5906672616074182 ; 5.742788238891192)\n",
      "ДИ при 100 наблюдений и alpha = 0.05: (3.445366117978525 ; 6.031273903318027)\n",
      "ДИ при 300 наблюдений и alpha = 0.1: (4.311074218878107 ; 5.644180347927613)\n",
      "ДИ при 300 наблюдений и alpha = 0.05: (4.206429020491679 ; 5.7992980883697784)\n",
      "ДИ при 1000 наблюдений и alpha = 0.1: (4.7166067717137725 ; 5.4649038474612235)\n",
      "ДИ при 1000 наблюдений и alpha = 0.05: (4.652283289934833 ; 5.5446673176814105)\n"
     ]
    }
   ],
   "source": [
    "print(f'Оцениваю параметр = {norm_rv.var()}.')\n",
    "print()\n",
    "\n",
    "l, r = chi_var_interval(norm_100, 0.1)\n",
    "print(f'ДИ при 100 наблюдений и alpha = 0.1: ({l} ; {r})')\n",
    "\n",
    "l, r = chi_var_interval(norm_100, 0.05)\n",
    "print(f'ДИ при 100 наблюдений и alpha = 0.05: ({l} ; {r})')\n",
    "\n",
    "l, r = chi_var_interval(norm_300, 0.1)\n",
    "print(f'ДИ при 300 наблюдений и alpha = 0.1: ({l} ; {r})')\n",
    "\n",
    "l, r = chi_var_interval(norm_300, 0.05)\n",
    "print(f'ДИ при 300 наблюдений и alpha = 0.05: ({l} ; {r})')\n",
    "\n",
    "l, r = chi_var_interval(norm_1000, 0.1)\n",
    "print(f'ДИ при 1000 наблюдений и alpha = 0.1: ({l} ; {r})')\n",
    "\n",
    "l, r = chi_var_interval(norm_1000, 0.05)\n",
    "print(f'ДИ при 1000 наблюдений и alpha = 0.05: ({l} ; {r})')"
   ]
  },
  {
   "cell_type": "markdown",
   "id": "c5aa846a",
   "metadata": {},
   "source": [
    "#### Показательное распределение"
   ]
  },
  {
   "cell_type": "code",
   "execution_count": 173,
   "id": "02129bda",
   "metadata": {},
   "outputs": [
    {
     "name": "stdout",
     "output_type": "stream",
     "text": [
      "Оцениваю параметр = 169.0.\n",
      "\n",
      "ДИ при 100 наблюдений и alpha = 0.1: (95.22957349766361 ; 152.3068652237596)\n",
      "ДИ при 100 наблюдений и alpha = 0.05: (91.3759816919144 ; 159.95791300457208)\n",
      "ДИ при 300 наблюдений и alpha = 0.1: (122.9904027285923 ; 161.0225152294115)\n",
      "ДИ при 300 наблюдений и alpha = 0.05: (120.0049855356335 ; 165.44786083904842)\n",
      "ДИ при 1000 наблюдений и alpha = 0.1: (161.33462887651595 ; 186.93062126008948)\n",
      "ДИ при 1000 наблюдений и alpha = 0.05: (159.13440198393573 ; 189.65898308644566)\n"
     ]
    }
   ],
   "source": [
    "print(f'Оцениваю параметр = {exp_rv.var()}.')\n",
    "print()\n",
    "\n",
    "l, r = chi_var_interval(exp_100, 0.1)\n",
    "print(f'ДИ при 100 наблюдений и alpha = 0.1: ({l} ; {r})')\n",
    "\n",
    "l, r = chi_var_interval(exp_100, 0.05)\n",
    "print(f'ДИ при 100 наблюдений и alpha = 0.05: ({l} ; {r})')\n",
    "\n",
    "l, r = chi_var_interval(exp_300, 0.1)\n",
    "print(f'ДИ при 300 наблюдений и alpha = 0.1: ({l} ; {r})')\n",
    "\n",
    "l, r = chi_var_interval(exp_300, 0.05)\n",
    "print(f'ДИ при 300 наблюдений и alpha = 0.05: ({l} ; {r})')\n",
    "\n",
    "l, r = chi_var_interval(exp_1000, 0.1)\n",
    "print(f'ДИ при 1000 наблюдений и alpha = 0.1: ({l} ; {r})')\n",
    "\n",
    "l, r = chi_var_interval(exp_1000, 0.05)\n",
    "print(f'ДИ при 1000 наблюдений и alpha = 0.05: ({l} ; {r})')"
   ]
  },
  {
   "cell_type": "markdown",
   "id": "0137f64f",
   "metadata": {},
   "source": [
    "### 5. Сделайте выводы о том, как соотносятся между собой доверительные интервалы в пунктах 1 - 4."
   ]
  },
  {
   "attachments": {},
   "cell_type": "markdown",
   "id": "dcf088e2",
   "metadata": {},
   "source": [
    "Большее количество наблюдений позволяет сузить интервал, а маньшее альфа расширяет его. Это ожидаемо, поскольку при альфе равной 5% ошибка первого рода равна всего 5%.  \n",
    "При наличии существенной информации (истинного математического ожидания или дисперсии) мы можем существенно сузить доверительный интервал. Однако, например, ДИ для математического ожидания при неизвестной дисперсии и выборки, состоящей из 1000 наблюдений знание истинной дисперсии не настолько существенно, поскольку получившийся ДИ слабо отличается о того, который построен при условии знания истинной дисперсии. (Распределение Стьюдента сходится к нормальному по распределению)."
   ]
  },
  {
   "cell_type": "markdown",
   "id": "889f4488",
   "metadata": {},
   "source": [
    "## 2.3. Доверительные интервалы для разности параметров (10 баллов)"
   ]
  },
  {
   "cell_type": "markdown",
   "id": "5ff83134",
   "metadata": {},
   "source": [
    "### 1. Для каждой пары выборок из каждого распределения из пункта 2.1, предполагая их нормальность, постройте 90% и 95% доверительные интервалы для разностей математических ожиданий, предполагая дисперсии известными."
   ]
  },
  {
   "cell_type": "markdown",
   "id": "fe47f3cd",
   "metadata": {},
   "source": [
    "#### Определю функцию, которая будет выводить необходимый ДИ."
   ]
  },
  {
   "cell_type": "code",
   "execution_count": 174,
   "id": "3ac2f572",
   "metadata": {},
   "outputs": [],
   "source": [
    "def mean_diff_with_var_known(arr1, arr2, var, alpha):\n",
    "    \n",
    "    n1 = len(arr1)\n",
    "    n2 = len(arr2)\n",
    "    \n",
    "    z = sts.norm.ppf(1 - alpha / 2)\n",
    "        \n",
    "    l = np.mean(arr1) - np.mean(arr2) - z * np.sqrt(var/n1 + var / n2) \n",
    "    r = np.mean(arr1) - np.mean(arr2) + z * np.sqrt(var/n1 + var / n2)\n",
    "    return l, r"
   ]
  },
  {
   "cell_type": "markdown",
   "id": "fe424a76",
   "metadata": {},
   "source": [
    "#### Равномерное распределение"
   ]
  },
  {
   "cell_type": "code",
   "execution_count": 175,
   "id": "9fe0e9ae",
   "metadata": {},
   "outputs": [
    {
     "name": "stdout",
     "output_type": "stream",
     "text": [
      "ДИ для выборок с 100 и 300 наблюдениями при alpha = 0.1: (-0.5183815227314709 ; 0.9071582872931382)\n",
      "ДИ для выборок с 100 и 300 наблюдениями при alpha = 0.05: (-0.6549293443531897 ; 1.043706108914857)\n",
      "ДИ для выборок с 100 и 1000 наблюдениями при alpha = 0.1: (-0.5443260786048331 ; 0.7504847545754906)\n",
      "ДИ для выборок с 100 и 1000 наблюдениями при alpha = 0.05: (-0.6683517967501045 ; 0.874510472720762)\n",
      "ДИ для выборок с 300 и 1000 наблюдениями при alpha = 0.1: (-0.49765040901814317 ; 0.31503232042713336)\n",
      "ДИ для выборок с 300 и 1000 наблюдениями при alpha = 0.05: (-0.5754946443000954 ; 0.39287655570908564)\n"
     ]
    }
   ],
   "source": [
    "l, r = mean_diff_with_var_known(uniform_100, uniform_300, uniform_rv.var(), 0.1)\n",
    "print(f'ДИ для выборок с 100 и 300 наблюдениями при alpha = 0.1: ({l} ; {r})')\n",
    "\n",
    "l, r = mean_diff_with_var_known(uniform_100, uniform_300, uniform_rv.var(), 0.05)\n",
    "print(f'ДИ для выборок с 100 и 300 наблюдениями при alpha = 0.05: ({l} ; {r})')\n",
    "\n",
    "l, r = mean_diff_with_var_known(uniform_100, uniform_1000, uniform_rv.var(), 0.1)\n",
    "print(f'ДИ для выборок с 100 и 1000 наблюдениями при alpha = 0.1: ({l} ; {r})')\n",
    "\n",
    "l, r = mean_diff_with_var_known(uniform_100, uniform_1000, uniform_rv.var(), 0.05)\n",
    "print(f'ДИ для выборок с 100 и 1000 наблюдениями при alpha = 0.05: ({l} ; {r})')\n",
    "\n",
    "l, r = mean_diff_with_var_known(uniform_300, uniform_1000, uniform_rv.var(), 0.1)\n",
    "print(f'ДИ для выборок с 300 и 1000 наблюдениями при alpha = 0.1: ({l} ; {r})')\n",
    "\n",
    "l, r = mean_diff_with_var_known(uniform_300, uniform_1000, uniform_rv.var(), 0.05)\n",
    "print(f'ДИ для выборок с 300 и 1000 наблюдениями при alpha = 0.05: ({l} ; {r})')"
   ]
  },
  {
   "cell_type": "markdown",
   "id": "410c49f8",
   "metadata": {},
   "source": [
    "#### Нормальное распределение"
   ]
  },
  {
   "cell_type": "code",
   "execution_count": 176,
   "id": "b50e5fe6",
   "metadata": {},
   "outputs": [
    {
     "name": "stdout",
     "output_type": "stream",
     "text": [
      "ДИ для выборок с 100 и 300 наблюдениями при alpha = 0.1: (-0.291434499859717 ; 0.5579642606912056)\n",
      "ДИ для выборок с 100 и 300 наблюдениями при alpha = 0.05: (-0.3727956443369197 ; 0.6393254051684084)\n",
      "ДИ для выборок с 100 и 1000 наблюдениями при alpha = 0.1: (-0.46063041284516365 ; 0.3108743246004277)\n",
      "ДИ для выборок с 100 и 1000 наблюдениями при alpha = 0.05: (-0.5345303422110177 ; 0.38477425396628173)\n",
      "ДИ для выборок с 300 и 1000 наблюдениями при alpha = 0.1: (-0.4502588227605696 ; 0.03397297368434493)\n",
      "ДИ для выборок с 300 и 1000 наблюдениями при alpha = 0.05: (-0.4966418115059931 ; 0.08035596242976845)\n"
     ]
    }
   ],
   "source": [
    "l, r = mean_diff_with_var_known(norm_100, norm_300, norm_rv.var(), 0.1)\n",
    "print(f'ДИ для выборок с 100 и 300 наблюдениями при alpha = 0.1: ({l} ; {r})')\n",
    "\n",
    "l, r = mean_diff_with_var_known(norm_100, norm_300, norm_rv.var(), 0.05)\n",
    "print(f'ДИ для выборок с 100 и 300 наблюдениями при alpha = 0.05: ({l} ; {r})')\n",
    "\n",
    "l, r = mean_diff_with_var_known(norm_100, norm_1000, norm_rv.var(), 0.1)\n",
    "print(f'ДИ для выборок с 100 и 1000 наблюдениями при alpha = 0.1: ({l} ; {r})')\n",
    "\n",
    "l, r = mean_diff_with_var_known(norm_100, norm_1000, norm_rv.var(), 0.05)\n",
    "print(f'ДИ для выборок с 100 и 1000 наблюдениями при alpha = 0.05: ({l} ; {r})')\n",
    "\n",
    "l, r = mean_diff_with_var_known(norm_300, norm_1000, norm_rv.var(), 0.1)\n",
    "print(f'ДИ для выборок с 300 и 1000 наблюдениями при alpha = 0.1: ({l} ; {r})')\n",
    "\n",
    "l, r = mean_diff_with_var_known(norm_300, norm_1000, norm_rv.var(), 0.05)\n",
    "print(f'ДИ для выборок с 300 и 1000 наблюдениями при alpha = 0.05: ({l} ; {r})')"
   ]
  },
  {
   "cell_type": "markdown",
   "id": "d1957e99",
   "metadata": {},
   "source": [
    "#### Показательное распределение"
   ]
  },
  {
   "cell_type": "code",
   "execution_count": 177,
   "id": "c0788240",
   "metadata": {},
   "outputs": [
    {
     "name": "stdout",
     "output_type": "stream",
     "text": [
      "ДИ для выборок с 100 и 300 наблюдениями при alpha = 0.1: (-2.4248914176151426 ; 2.513323340734274)\n",
      "ДИ для выборок с 100 и 300 наблюдениями при alpha = 0.05: (-2.897906947038481 ; 2.986338870157612)\n",
      "ДИ для выборок с 100 и 1000 наблюдениями при alpha = 0.1: (-2.743061957659222 ; 1.7422943408585994)\n",
      "ДИ для выборок с 100 и 1000 наблюдениями при alpha = 0.05: (-3.1726996482048766 ; 2.171932031404254)\n",
      "ДИ для выборок с 300 и 1000 наблюдениями при alpha = 0.1: (-1.9522075477928478 ; 0.8630080078730937)\n",
      "ДИ для выборок с 300 и 1000 наблюдениями при alpha = 0.05: (-2.221867888962222 ; 1.132668349042468)\n"
     ]
    }
   ],
   "source": [
    "l, r = mean_diff_with_var_known(exp_100, exp_300, exp_rv.var(), 0.1)\n",
    "print(f'ДИ для выборок с 100 и 300 наблюдениями при alpha = 0.1: ({l} ; {r})')\n",
    "\n",
    "l, r = mean_diff_with_var_known(exp_100, exp_300, exp_rv.var(), 0.05)\n",
    "print(f'ДИ для выборок с 100 и 300 наблюдениями при alpha = 0.05: ({l} ; {r})')\n",
    "\n",
    "l, r = mean_diff_with_var_known(exp_100, exp_1000, exp_rv.var(), 0.1)\n",
    "print(f'ДИ для выборок с 100 и 1000 наблюдениями при alpha = 0.1: ({l} ; {r})')\n",
    "\n",
    "l, r = mean_diff_with_var_known(exp_100, exp_1000, exp_rv.var(), 0.05)\n",
    "print(f'ДИ для выборок с 100 и 1000 наблюдениями при alpha = 0.05: ({l} ; {r})')\n",
    "\n",
    "l, r = mean_diff_with_var_known(exp_300, exp_1000, exp_rv.var(), 0.1)\n",
    "print(f'ДИ для выборок с 300 и 1000 наблюдениями при alpha = 0.1: ({l} ; {r})')\n",
    "\n",
    "l, r = mean_diff_with_var_known(exp_300, exp_1000, exp_rv.var(), 0.05)\n",
    "print(f'ДИ для выборок с 300 и 1000 наблюдениями при alpha = 0.05: ({l} ; {r})')"
   ]
  },
  {
   "cell_type": "markdown",
   "id": "575fbe91",
   "metadata": {},
   "source": [
    "### 2. Для каждой пары выборок из каждого распределения из пункта 2.1, предполагая их нормальность, постройте 90% и 95% доверительные интервалы для разностей математических ожиданий, предполагая дисперсии неизвестными, но равными."
   ]
  },
  {
   "cell_type": "markdown",
   "id": "4c0bd4ba",
   "metadata": {},
   "source": [
    "#### Определю функцию, которая будет выводить необходимый ДИ."
   ]
  },
  {
   "cell_type": "code",
   "execution_count": 178,
   "id": "33fcd38e",
   "metadata": {},
   "outputs": [],
   "source": [
    "def mean_diff_with_var_unknown(arr1, arr2, alpha):\n",
    "    \n",
    "    n1 = len(arr1)\n",
    "    n2 = len(arr2)\n",
    "    sigm0 = (np.var(arr1) * (n1 - 1) + np.var(arr2) * (n2 - 1)) / (n1 + n2 - 2) \n",
    "    \n",
    "    t_ = sts.t(n1 + n2 - 2)\n",
    "    \n",
    "    if alpha == 5:\n",
    "        t = t_.ppf(0.975)\n",
    "    elif alpha == 10:\n",
    "        t = t_.ppf(0.95)\n",
    "        \n",
    "    l = np.mean(arr1) - np.mean(arr2) - t * np.sqrt(sigm0) * np.sqrt(1 / n1 + 1 / n2) \n",
    "    r = np.mean(arr1) - np.mean(arr2) + t * np.sqrt(sigm0) * np.sqrt(1 / n1 + 1 / n2)\n",
    "    return l, r"
   ]
  },
  {
   "cell_type": "markdown",
   "id": "76752748",
   "metadata": {},
   "source": [
    "#### Равномерное распределение"
   ]
  },
  {
   "cell_type": "code",
   "execution_count": 179,
   "id": "eb29b836",
   "metadata": {},
   "outputs": [
    {
     "name": "stdout",
     "output_type": "stream",
     "text": [
      "ДИ для выборок с 100 и 300 наблюдениями при alpha = 0.1: (-0.5127711527202584 ; 0.9015479172819257)\n",
      "ДИ для выборок с 100 и 300 наблюдениями при alpha = 0.05: (-0.6488470772278848 ; 1.0376238417895522)\n",
      "ДИ для выборок с 100 и 1000 наблюдениями при alpha = 0.1: (-0.5478661309711507 ; 0.7540248069418082)\n",
      "ДИ для выборок с 100 и 1000 наблюдениями при alpha = 0.05: (-0.6727708395549884 ; 0.8789295155256459)\n",
      "ДИ для выборок с 300 и 1000 наблюдениями при alpha = 0.1: (-0.5001487934737696 ; 0.31753070488275975)\n",
      "ДИ для выборок с 300 и 1000 наблюдениями при alpha = 0.05: (-0.5785783260440707 ; 0.39596023745306086)\n"
     ]
    }
   ],
   "source": [
    "l, r = mean_diff_with_var_unknown(uniform_100, uniform_300, 10)\n",
    "print(f'ДИ для выборок с 100 и 300 наблюдениями при alpha = 0.1: ({l} ; {r})')\n",
    "\n",
    "l, r = mean_diff_with_var_unknown(uniform_100, uniform_300, 5)\n",
    "print(f'ДИ для выборок с 100 и 300 наблюдениями при alpha = 0.05: ({l} ; {r})')\n",
    "\n",
    "l, r = mean_diff_with_var_unknown(uniform_100, uniform_1000, 10)\n",
    "print(f'ДИ для выборок с 100 и 1000 наблюдениями при alpha = 0.1: ({l} ; {r})')\n",
    "\n",
    "l, r = mean_diff_with_var_unknown(uniform_100, uniform_1000, 5)\n",
    "print(f'ДИ для выборок с 100 и 1000 наблюдениями при alpha = 0.05: ({l} ; {r})')\n",
    "\n",
    "l, r = mean_diff_with_var_unknown(uniform_300, uniform_1000, 10)\n",
    "print(f'ДИ для выборок с 300 и 1000 наблюдениями при alpha = 0.1: ({l} ; {r})')\n",
    "\n",
    "l, r = mean_diff_with_var_unknown(uniform_300, uniform_1000, 5)\n",
    "print(f'ДИ для выборок с 300 и 1000 наблюдениями при alpha = 0.05: ({l} ; {r})')"
   ]
  },
  {
   "cell_type": "markdown",
   "id": "4e096166",
   "metadata": {},
   "source": [
    "#### Нормальное распределение"
   ]
  },
  {
   "cell_type": "code",
   "execution_count": 180,
   "id": "f8b8d790",
   "metadata": {},
   "outputs": [
    {
     "name": "stdout",
     "output_type": "stream",
     "text": [
      "ДИ для выборок с 100 и 300 наблюдениями при alpha = 0.1: (-0.28374162238144474 ; 0.5502713832129335)\n",
      "ДИ для выборок с 100 и 300 наблюдениями при alpha = 0.05: (-0.3639845415322584 ; 0.6305143023637472)\n",
      "ДИ для выборок с 100 и 1000 наблюдениями при alpha = 0.1: (-0.46153276049086944 ; 0.3117766722461335)\n",
      "ДИ для выборок с 100 и 1000 наблюдениями при alpha = 0.05: (-0.5357248349022561 ; 0.3859687466575201)\n",
      "ДИ для выборок с 300 и 1000 наблюдениями при alpha = 0.1: (-0.4511982567936629 ; 0.0349124077174382)\n",
      "ДИ для выборок с 300 и 1000 наблюдениями при alpha = 0.05: (-0.4978246333527832 ; 0.08153878427655853)\n"
     ]
    }
   ],
   "source": [
    "l, r = mean_diff_with_var_unknown(norm_100, norm_300, 10)\n",
    "print(f'ДИ для выборок с 100 и 300 наблюдениями при alpha = 0.1: ({l} ; {r})')\n",
    "\n",
    "l, r = mean_diff_with_var_unknown(norm_100, norm_300, 5)\n",
    "print(f'ДИ для выборок с 100 и 300 наблюдениями при alpha = 0.05: ({l} ; {r})')\n",
    "\n",
    "l, r = mean_diff_with_var_unknown(norm_100, norm_1000, 10)\n",
    "print(f'ДИ для выборок с 100 и 1000 наблюдениями при alpha = 0.1: ({l} ; {r})')\n",
    "\n",
    "l, r = mean_diff_with_var_unknown(norm_100, norm_1000, 5)\n",
    "print(f'ДИ для выборок с 100 и 1000 наблюдениями при alpha = 0.05: ({l} ; {r})')\n",
    "\n",
    "l, r = mean_diff_with_var_unknown(norm_300, norm_1000, 10)\n",
    "print(f'ДИ для выборок с 300 и 1000 наблюдениями при alpha = 0.1: ({l} ; {r})')\n",
    "\n",
    "l, r = mean_diff_with_var_unknown(norm_300, norm_1000, 5)\n",
    "print(f'ДИ для выборок с 300 и 1000 наблюдениями при alpha = 0.05: ({l} ; {r})')"
   ]
  },
  {
   "cell_type": "markdown",
   "id": "6c2a7b4c",
   "metadata": {},
   "source": [
    "#### Показательное распределение"
   ]
  },
  {
   "cell_type": "code",
   "execution_count": 181,
   "id": "7b81018e",
   "metadata": {},
   "outputs": [
    {
     "name": "stdout",
     "output_type": "stream",
     "text": [
      "ДИ для выборок с 100 и 300 наблюдениями при alpha = 0.1: (-2.164887687580816 ; 2.2533196106999474)\n",
      "ДИ для выборок с 100 и 300 наблюдениями при alpha = 0.05: (-2.5899768032772963 ; 2.6784087263964276)\n",
      "ДИ для выборок с 100 и 1000 наблюдениями при alpha = 0.1: (-2.7412538309287453 ; 1.7404862141281225)\n",
      "ДИ для выборок с 100 и 1000 наблюдениями при alpha = 0.05: (-3.171236418543754 ; 2.170468801743131)\n",
      "ДИ для выборок с 300 и 1000 наблюдениями при alpha = 0.1: (-1.9393735381470303 ; 0.8501739982272762)\n",
      "ДИ для выборок с 300 и 1000 наблюдениями при alpha = 0.05: (-2.2069391427637637 ; 1.1177396028440096)\n"
     ]
    }
   ],
   "source": [
    "l, r = mean_diff_with_var_unknown(exp_100, exp_300, 10)\n",
    "print(f'ДИ для выборок с 100 и 300 наблюдениями при alpha = 0.1: ({l} ; {r})')\n",
    "\n",
    "l, r = mean_diff_with_var_unknown(exp_100, exp_300, 5)\n",
    "print(f'ДИ для выборок с 100 и 300 наблюдениями при alpha = 0.05: ({l} ; {r})')\n",
    "\n",
    "l, r = mean_diff_with_var_unknown(exp_100, exp_1000, 10)\n",
    "print(f'ДИ для выборок с 100 и 1000 наблюдениями при alpha = 0.1: ({l} ; {r})')\n",
    "\n",
    "l, r = mean_diff_with_var_unknown(exp_100, exp_1000, 5)\n",
    "print(f'ДИ для выборок с 100 и 1000 наблюдениями при alpha = 0.05: ({l} ; {r})')\n",
    "\n",
    "l, r = mean_diff_with_var_unknown(exp_300, exp_1000, 10)\n",
    "print(f'ДИ для выборок с 300 и 1000 наблюдениями при alpha = 0.1: ({l} ; {r})')\n",
    "\n",
    "l, r = mean_diff_with_var_unknown(exp_300, exp_1000, 5)\n",
    "print(f'ДИ для выборок с 300 и 1000 наблюдениями при alpha = 0.05: ({l} ; {r})')"
   ]
  },
  {
   "cell_type": "markdown",
   "id": "49d16ca1",
   "metadata": {},
   "source": [
    "### 3. Преобразуйте 3 выборки из равномерного распределения (пункт 2.1.3) в 3 выборки из биномиального распределения с помощью следующего правила: если элемент выборки меньше ... . Для всех трех пар выборок построить 90% и 95% доверительные интервалы для всех возможных разностей долей."
   ]
  },
  {
   "cell_type": "code",
   "execution_count": 182,
   "id": "eb8cef89",
   "metadata": {},
   "outputs": [],
   "source": [
    "cond = c2 + (c1 * c3) / (c1 + c2)\n",
    "uniform_100 = 1 * (uniform_100 >= cond) # превращаю в единицу все, что соответствует условию, остальное зануляю\n",
    "uniform_300 = 1 * (uniform_300 >= cond)\n",
    "uniform_1000 = 1 * (uniform_1000 >= cond)"
   ]
  },
  {
   "cell_type": "markdown",
   "id": "8b2458d2",
   "metadata": {},
   "source": [
    "#### Определю функцию, которая будет выводить необходимый ДИ."
   ]
  },
  {
   "cell_type": "code",
   "execution_count": 183,
   "id": "07949cf6",
   "metadata": {},
   "outputs": [],
   "source": [
    "def share_diff(arr1, arr2, alpha):\n",
    "    \n",
    "    n1 = len(arr1)\n",
    "    n2 = len(arr2)\n",
    "    \n",
    "    if alpha == 5:\n",
    "        z = 1.96\n",
    "        \n",
    "    elif alpha == 10:\n",
    "        z = 1.64\n",
    "        \n",
    "    emp_var = ((np.mean(arr1) * (1 - np.mean(arr1))) / n1) + ((np.mean(arr2) * (1 - np.mean(arr2))) / n2)\n",
    "    #дисперсия разности долей для асимптотического ДИ\n",
    "    \n",
    "    l = np.mean(arr1) - np.mean(arr2) - z * np.sqrt(emp_var)\n",
    "    r = np.mean(arr1) - np.mean(arr2) + z * np.sqrt(emp_var)\n",
    "    return l, r"
   ]
  },
  {
   "cell_type": "code",
   "execution_count": 184,
   "id": "56c33ec6",
   "metadata": {},
   "outputs": [
    {
     "name": "stdout",
     "output_type": "stream",
     "text": [
      "ДИ для выборок с 100 и 300 наблюдениями при alpha = 0.1: (-0.051874948744710665 ; 0.025208282078043993)\n",
      "ДИ для выборок с 100 и 300 наблюдениями при alpha = 0.05: (-0.059395263946930635 ; 0.03272859728026396)\n",
      "ДИ для выборок с 100 и 1000 наблюдениями при alpha = 0.1: (-0.047173090489447976 ; 0.02117309048944798)\n",
      "ДИ для выборок с 100 и 1000 наблюдениями при alpha = 0.05: (-0.05384101058495002 ; 0.027841010584950025)\n",
      "ДИ для выборок с 300 и 1000 наблюдениями при alpha = 0.1: (-0.02390802455187017 ; 0.024574691218536848)\n",
      "ДИ для выборок с 300 и 1000 наблюдениями при alpha = 0.05: (-0.02863804560264159 ; 0.029304712269308267)\n"
     ]
    }
   ],
   "source": [
    "l, r = share_diff(uniform_100, uniform_300, 10)\n",
    "print(f'ДИ для выборок с 100 и 300 наблюдениями при alpha = 0.1: ({l} ; {r})')\n",
    "\n",
    "l, r = share_diff(uniform_100, uniform_300, 5)\n",
    "print(f'ДИ для выборок с 100 и 300 наблюдениями при alpha = 0.05: ({l} ; {r})')\n",
    "\n",
    "l, r = share_diff(uniform_100, uniform_1000, 10)\n",
    "print(f'ДИ для выборок с 100 и 1000 наблюдениями при alpha = 0.1: ({l} ; {r})')\n",
    "\n",
    "l, r = share_diff(uniform_100, uniform_1000, 5)\n",
    "print(f'ДИ для выборок с 100 и 1000 наблюдениями при alpha = 0.05: ({l} ; {r})')\n",
    "\n",
    "l, r = share_diff(uniform_300, uniform_1000, 10)\n",
    "print(f'ДИ для выборок с 300 и 1000 наблюдениями при alpha = 0.1: ({l} ; {r})')\n",
    "\n",
    "l, r = share_diff(uniform_300, uniform_1000, 5)\n",
    "print(f'ДИ для выборок с 300 и 1000 наблюдениями при alpha = 0.05: ({l} ; {r})')"
   ]
  },
  {
   "cell_type": "markdown",
   "id": "72043e00",
   "metadata": {},
   "source": [
    "### 4. Сделайте выводы о том, как соотносятся между собой доверительные интервалы в пунктах 1 - 3."
   ]
  },
  {
   "cell_type": "markdown",
   "id": "ff7260ff",
   "metadata": {},
   "source": [
    "Выводы те же, что и пункте 2.2.5: Качество оценки повышается с ростом наблюдений, с ростом альфы интервал сужается, существенная информация в общем случае положительное влияет на оценку."
   ]
  },
  {
   "cell_type": "markdown",
   "id": "e38857ec",
   "metadata": {},
   "source": [
    "# Задание 3. Проверка гипотез"
   ]
  },
  {
   "cell_type": "markdown",
   "id": "6a69034d",
   "metadata": {},
   "source": [
    "## 3.1. Использование симулированных данных (15 баллов)"
   ]
  },
  {
   "cell_type": "markdown",
   "id": "244f30d7",
   "metadata": {},
   "source": [
    "### 1. Создайте 100 выборок объемом n = 100 из нормального распределения с параметрами μ = a2 и σ^2 = a1."
   ]
  },
  {
   "cell_type": "code",
   "execution_count": 185,
   "id": "f47b81d9",
   "metadata": {
    "scrolled": true
   },
   "outputs": [
    {
     "data": {
      "text/plain": [
       "array([[10.28225504, 11.93368338, 15.81980857, ..., 15.96080583,\n",
       "        18.20700623, 12.5205694 ],\n",
       "       [11.70401886, 13.7972963 , 14.78815632, ..., 20.9690187 ,\n",
       "        10.77921035, 13.80973349],\n",
       "       [13.77817044,  8.66632607, 11.1294489 , ..., 14.89690562,\n",
       "        20.20472883, 15.48511558],\n",
       "       ...,\n",
       "       [ 9.75497986, 14.68007374, 16.8599886 , ..., 14.76643475,\n",
       "        16.58915743, 18.94728552],\n",
       "       [18.4835241 , 18.64100528, 14.20346802, ..., 14.79625471,\n",
       "        10.39537961, 12.54491062],\n",
       "       [17.37527789, 21.58207188, 19.03846928, ..., 20.03180836,\n",
       "        10.99877204, 10.4832071 ]])"
      ]
     },
     "execution_count": 185,
     "metadata": {},
     "output_type": "execute_result"
    }
   ],
   "source": [
    "np.random.seed(5401860)\n",
    "norm_rv = sts.norm(loc=a2, scale=np.sqrt(a1))\n",
    "norm = norm_rv.rvs((100, 100))\n",
    "norm"
   ]
  },
  {
   "cell_type": "markdown",
   "id": "92946d80",
   "metadata": {},
   "source": [
    "### 2. Для каждой выборки на 1%, 5%, 10% уровне значимости проверьте гипотезу о том, что математическое ожидание равно истинному значению (при известной дисперсии). Рассчитайте долю верных ответов."
   ]
  },
  {
   "cell_type": "code",
   "execution_count": 186,
   "id": "797a7654",
   "metadata": {
    "scrolled": true
   },
   "outputs": [
    {
     "name": "stdout",
     "output_type": "stream",
     "text": [
      "Доля верных ответов при 1% уровне значимости: 0.98\n",
      "Доля верных ответов при 5% уровне значимости: 0.97\n",
      "Доля верных ответов при 10% уровне значимости: 0.92\n"
     ]
    }
   ],
   "source": [
    "z_stat = (np.mean(norm, axis=1) - norm_rv.mean()) / (norm_rv.std() / np.sqrt(100))\n",
    "\n",
    "propor_of_true = np.mean(abs(z_stat) < 2.57) # доля значений, попавших в H0 границу ДИ\n",
    "print(f'Доля верных ответов при 1% уровне значимости: {propor_of_true}')\n",
    "\n",
    "propor_of_true = np.mean(abs(z_stat) < 1.96)\n",
    "print(f'Доля верных ответов при 5% уровне значимости: {propor_of_true}')\n",
    "\n",
    "propor_of_true = np.mean(abs(z_stat) < 1.64)\n",
    "print(f'Доля верных ответов при 10% уровне значимости: {propor_of_true}')"
   ]
  },
  {
   "cell_type": "markdown",
   "id": "8f4b2b2b",
   "metadata": {},
   "source": [
    "### 3. Для каждой выборки на 1%, 5%, 10% уровне значимости проверьте гипотезу о том, что математическое ожидание равно истинному значению (при неизвестной дисперсии). Рассчитайте долю верных ответов."
   ]
  },
  {
   "cell_type": "code",
   "execution_count": 187,
   "id": "a04013eb",
   "metadata": {},
   "outputs": [
    {
     "name": "stdout",
     "output_type": "stream",
     "text": [
      "Доля верных ответов при 1% уровне значимости: 0.98\n",
      "Доля верных ответов при 5% уровне значимости: 0.96\n",
      "Доля верных ответов при 10% уровне значимости: 0.95\n"
     ]
    }
   ],
   "source": [
    "t_stat = (np.mean(norm, axis=1) - norm_rv.mean()) / (np.std(norm, axis=1) / np.sqrt(100))\n",
    "t_ = sts.t(99)\n",
    "\n",
    "propor_of_true = np.mean(abs(t_stat) < t_.ppf(0.995)) # оставляю только квантиль 0.05% в силу симметрии распределения\n",
    "print(f'Доля верных ответов при 1% уровне значимости: {propor_of_true}')\n",
    "\n",
    "propor_of_true = np.mean(abs(t_stat) < t_.ppf(0.975))\n",
    "print(f'Доля верных ответов при 5% уровне значимости: {propor_of_true}')\n",
    "\n",
    "propor_of_true = np.mean(abs(t_stat) < t_.ppf(0.95))\n",
    "print(f'Доля верных ответов при 10% уровне значимости: {propor_of_true}')"
   ]
  },
  {
   "cell_type": "markdown",
   "id": "60a6e6ff",
   "metadata": {},
   "source": [
    "## 3.2. Использование реальных данных (15 баллов)"
   ]
  },
  {
   "cell_type": "markdown",
   "id": "4e1d58c7",
   "metadata": {},
   "source": [
    "### 1. Выберите три произвольных ряда из базы данных цен мировых товарных рынков."
   ]
  },
  {
   "cell_type": "markdown",
   "id": "4270745e",
   "metadata": {},
   "source": [
    "Я выбираю те же, что использовал в задании 1.3.1"
   ]
  },
  {
   "cell_type": "markdown",
   "id": "5d95011b",
   "metadata": {},
   "source": [
    "### 2. На уровне значимости 5% для каждого показателя проверьте гипотезы о том, что его математическое ожидание равно последнему доступному значению (значению за апрель 2023 года или за май 2023 года после его появления в начале июня) на выборках в 36, 72 и 108 последних наблюдений."
   ]
  },
  {
   "cell_type": "markdown",
   "id": "d5f3c377",
   "metadata": {},
   "source": [
    "#### Определю функцию, которая будет работать с гипотезой."
   ]
  },
  {
   "cell_type": "code",
   "execution_count": 190,
   "id": "454d21bf",
   "metadata": {},
   "outputs": [],
   "source": [
    "def hypothesis(arr):\n",
    "    \n",
    "    n = len(arr)\n",
    "    z_ = sts.norm()\n",
    "    \n",
    "    z_stat = (np.mean(arr) - arr[-1]) / (np.std(arr) / np.sqrt(n))\n",
    "    \n",
    "    if abs(z_stat) < z_.ppf(0.975):\n",
    "        return 'Для ' + str(n) + ' наблюдений основная гипотеза не отвергается'\n",
    "    else:\n",
    "        return 'Для ' + str(n) + ' наблюдений основная гипотеза отвергается'"
   ]
  },
  {
   "cell_type": "markdown",
   "id": "f5be2835",
   "metadata": {},
   "source": [
    "#### Сахар"
   ]
  },
  {
   "cell_type": "code",
   "execution_count": 191,
   "id": "7762654f",
   "metadata": {},
   "outputs": [
    {
     "name": "stdout",
     "output_type": "stream",
     "text": [
      "Для 36 наблюдений основная гипотеза отвергается\n",
      "Для 72 наблюдений основная гипотеза отвергается\n",
      "Для 108 наблюдений основная гипотеза отвергается\n"
     ]
    }
   ],
   "source": [
    "print(hypothesis(df['Sugar, US'][-36:]))\n",
    "print(hypothesis(df['Sugar, US'][-72:]))\n",
    "print(hypothesis(df['Sugar, US'][-108:]))"
   ]
  },
  {
   "cell_type": "markdown",
   "id": "df4bc442",
   "metadata": {},
   "source": [
    "#### Кофе"
   ]
  },
  {
   "cell_type": "code",
   "execution_count": 192,
   "id": "6300ff6b",
   "metadata": {},
   "outputs": [
    {
     "name": "stdout",
     "output_type": "stream",
     "text": [
      "Для 36 наблюдений основная гипотеза отвергается\n",
      "Для 72 наблюдений основная гипотеза отвергается\n",
      "Для 108 наблюдений основная гипотеза отвергается\n"
     ]
    }
   ],
   "source": [
    "print(hypothesis(df['Coffee, Arabica'][-36:]))\n",
    "print(hypothesis(df['Coffee, Arabica'][-72:]))\n",
    "print(hypothesis(df['Coffee, Arabica'][-108:]))"
   ]
  },
  {
   "cell_type": "markdown",
   "id": "931aef7b",
   "metadata": {},
   "source": [
    "#### Бананы"
   ]
  },
  {
   "cell_type": "code",
   "execution_count": 193,
   "id": "fa38796c",
   "metadata": {},
   "outputs": [
    {
     "name": "stdout",
     "output_type": "stream",
     "text": [
      "Для 36 наблюдений основная гипотеза отвергается\n",
      "Для 72 наблюдений основная гипотеза отвергается\n",
      "Для 108 наблюдений основная гипотеза отвергается\n"
     ]
    }
   ],
   "source": [
    "print(hypothesis(df['Banana, US'][-36:]))\n",
    "print(hypothesis(df['Banana, US'][-72:]))\n",
    "print(hypothesis(df['Banana, US'][-108:]))"
   ]
  }
 ],
 "metadata": {
  "kernelspec": {
   "display_name": "Python 3 (ipykernel)",
   "language": "python",
   "name": "python3"
  },
  "language_info": {
   "codemirror_mode": {
    "name": "ipython",
    "version": 3
   },
   "file_extension": ".py",
   "mimetype": "text/x-python",
   "name": "python",
   "nbconvert_exporter": "python",
   "pygments_lexer": "ipython3",
   "version": "3.9.13"
  }
 },
 "nbformat": 4,
 "nbformat_minor": 5
}
